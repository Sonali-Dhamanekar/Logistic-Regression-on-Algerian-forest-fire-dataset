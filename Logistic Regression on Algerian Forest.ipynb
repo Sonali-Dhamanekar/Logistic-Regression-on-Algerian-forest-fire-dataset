{
 "cells": [
  {
   "cell_type": "markdown",
   "id": "81949655",
   "metadata": {},
   "source": [
    "# Logistic Regression on Algerian Forest Fire Dataset"
   ]
  },
  {
   "cell_type": "code",
   "execution_count": 1,
   "id": "bb4bbbb4",
   "metadata": {},
   "outputs": [],
   "source": [
    "#Let's start with importing necessary libraries\n",
    "\n",
    "import pandas as pd \n",
    "import numpy as np \n",
    "from sklearn.preprocessing import StandardScaler \n",
    "from sklearn.linear_model  import Ridge,Lasso,RidgeCV, LassoCV, ElasticNet, ElasticNetCV, LogisticRegression\n",
    "from sklearn.model_selection import train_test_split\n",
    "from statsmodels.stats.outliers_influence import variance_inflation_factor \n",
    "from sklearn.metrics import accuracy_score, confusion_matrix, roc_curve, roc_auc_score\n",
    "import matplotlib.pyplot as plt\n",
    "import warnings\n",
    "warnings.filterwarnings(\"ignore\")\n",
    "\n",
    "%matplotlib inline\n",
    "import seaborn as sns\n",
    "import scikitplot as skl\n",
    "sns.set()"
   ]
  },
  {
   "cell_type": "code",
   "execution_count": 2,
   "id": "da1d3e28",
   "metadata": {},
   "outputs": [],
   "source": [
    "#pip install scikit-plot"
   ]
  },
  {
   "cell_type": "code",
   "execution_count": 3,
   "id": "b9db96dc",
   "metadata": {},
   "outputs": [
    {
     "data": {
      "text/plain": [
       "<bound method NDFrame.head of     day month  year Temperature  RH  Ws Rain   FFMC  DMC    DC  ISI   BUI  \\\n",
       "0     1     6  2012          29  57  18     0  65.7  3.4   7.6  1.3   3.4   \n",
       "1     2     6  2012          29  61  13   1.3  64.4  4.1   7.6    1   3.9   \n",
       "2     3     6  2012          26  82  22  13.1  47.1  2.5   7.1  0.3   2.7   \n",
       "3     4     6  2012          25  89  13   2.5  28.6  1.3   6.9    0   1.7   \n",
       "4     5     6  2012          27  77  16     0  64.8    3  14.2  1.2   3.9   \n",
       "..   ..   ...   ...         ...  ..  ..   ...   ...  ...   ...  ...   ...   \n",
       "242  26     9  2012          30  65  14     0  85.4   16  44.5  4.5  16.9   \n",
       "243  27     9  2012          28  87  15   4.4  41.1  6.5     8  0.1   6.2   \n",
       "244  28     9  2012          27  87  29   0.5  45.9  3.5   7.9  0.4   3.4   \n",
       "245  29     9  2012          24  54  18   0.1  79.7  4.3  15.2  1.7   5.1   \n",
       "246  30     9  2012          24  64  15   0.2  67.3  3.8  16.5  1.2   4.8   \n",
       "\n",
       "     FWI     Classes    Region  \n",
       "0    0.5   not fire        1.0  \n",
       "1    0.4   not fire        1.0  \n",
       "2    0.1   not fire        1.0  \n",
       "3      0   not fire        1.0  \n",
       "4    0.5   not fire        1.0  \n",
       "..   ...           ...     ...  \n",
       "242  6.5       fire        0.0  \n",
       "243    0   not fire        0.0  \n",
       "244  0.2   not fire        0.0  \n",
       "245  0.7   not fire        0.0  \n",
       "246  0.5  not fire         0.0  \n",
       "\n",
       "[247 rows x 15 columns]>"
      ]
     },
     "execution_count": 3,
     "metadata": {},
     "output_type": "execute_result"
    }
   ],
   "source": [
    "df=pd.read_csv(\"C:\\\\Users\\\\sonal\\\\Downloads\\\\Algerian_forest_fires_dataset_UPDATE.csv\",header=1)\n",
    "df.head"
   ]
  },
  {
   "cell_type": "markdown",
   "id": "931fa8b5",
   "metadata": {},
   "source": [
    "                                               **Data Cleaning**"
   ]
  },
  {
   "cell_type": "markdown",
   "id": "6359cb10",
   "metadata": {},
   "source": [
    "Observation: In our dataset\n",
    "\n",
    "1. From index 0-121 we have Bejaia Region\n",
    "2. From index 122-124 we have irrelevant rows so we need to drop it\n",
    "3. From index 125 onwards we have Sidi-Bel Abbes Region\n",
    "Lets drop the unecessary rows"
   ]
  },
  {
   "cell_type": "code",
   "execution_count": 4,
   "id": "7b0881c4",
   "metadata": {},
   "outputs": [],
   "source": [
    "df.drop(index=[122,123,124],inplace=True) #to drop unwanted rows\n",
    "df.reset_index(drop=True,inplace=True) #Resetting indexes after deleting rows\n",
    "df['Region']=0\n",
    "\n",
    "for i in range(len(df)):\n",
    "    if i < 122:\n",
    "        df['Region'][i]=0\n",
    "    else:\n",
    "        df['Region'][i]=1"
   ]
  },
  {
   "cell_type": "code",
   "execution_count": 5,
   "id": "8940c3de",
   "metadata": {},
   "outputs": [
    {
     "data": {
      "text/plain": [
       "Index(['day', 'month', 'year', 'Temperature', ' RH', ' Ws', 'Rain ', 'FFMC',\n",
       "       'DMC', 'DC', 'ISI', 'BUI', 'FWI', 'Classes  ', 'Region'],\n",
       "      dtype='object')"
      ]
     },
     "execution_count": 5,
     "metadata": {},
     "output_type": "execute_result"
    }
   ],
   "source": [
    "df.columns"
   ]
  },
  {
   "cell_type": "markdown",
   "id": "dcc404f4",
   "metadata": {},
   "source": [
    "Observation: Column name has some extra space lets remove it."
   ]
  },
  {
   "cell_type": "code",
   "execution_count": 6,
   "id": "6fd6cd96",
   "metadata": {},
   "outputs": [
    {
     "name": "stdout",
     "output_type": "stream",
     "text": [
      "Index(['day', 'month', 'year', 'Temperature', 'RH', 'Ws', 'Rain', 'FFMC',\n",
      "       'DMC', 'DC', 'ISI', 'BUI', 'FWI', 'Classes', 'Region'],\n",
      "      dtype='object')\n"
     ]
    }
   ],
   "source": [
    "for i in df.columns:\n",
    "    df.rename(columns={i:i.strip()},inplace=True)\n",
    "    \n",
    "print(df.columns)"
   ]
  },
  {
   "cell_type": "code",
   "execution_count": 7,
   "id": "5ce98b7b",
   "metadata": {},
   "outputs": [
    {
     "data": {
      "text/plain": [
       "day            0\n",
       "month          0\n",
       "year           0\n",
       "Temperature    0\n",
       "RH             0\n",
       "Ws             0\n",
       "Rain           0\n",
       "FFMC           0\n",
       "DMC            0\n",
       "DC             0\n",
       "ISI            0\n",
       "BUI            0\n",
       "FWI            0\n",
       "Classes        1\n",
       "Region         0\n",
       "dtype: int64"
      ]
     },
     "execution_count": 7,
     "metadata": {},
     "output_type": "execute_result"
    }
   ],
   "source": [
    "#Finding out Null data in dataset\n",
    "df.isnull().sum()"
   ]
  },
  {
   "cell_type": "code",
   "execution_count": 8,
   "id": "781eef22",
   "metadata": {},
   "outputs": [
    {
     "data": {
      "text/plain": [
       "day                 14\n",
       "month                7\n",
       "year              2012\n",
       "Temperature         37\n",
       "RH                  37\n",
       "Ws                  18\n",
       "Rain               0.2\n",
       "FFMC              88.9\n",
       "DMC               12.9\n",
       "DC              14.6 9\n",
       "ISI               12.5\n",
       "BUI               10.4\n",
       "FWI            fire   \n",
       "Classes            NaN\n",
       "Region               1\n",
       "Name: 165, dtype: object"
      ]
     },
     "execution_count": 8,
     "metadata": {},
     "output_type": "execute_result"
    }
   ],
   "source": [
    "df.iloc[165]"
   ]
  },
  {
   "cell_type": "markdown",
   "id": "583baac2",
   "metadata": {},
   "source": [
    "From above observation we see that the values have been shifted to left from \"DC\" so we need to shift it back to their origional places"
   ]
  },
  {
   "cell_type": "code",
   "execution_count": 9,
   "id": "a2478b71",
   "metadata": {},
   "outputs": [
    {
     "data": {
      "text/plain": [
       "day              14\n",
       "month             7\n",
       "year           2012\n",
       "Temperature      37\n",
       "RH               37\n",
       "Ws               18\n",
       "Rain            0.2\n",
       "FFMC           88.9\n",
       "DMC            12.9\n",
       "DC             14.6\n",
       "ISI               9\n",
       "BUI            12.5\n",
       "FWI            10.4\n",
       "Classes        fire\n",
       "Region            1\n",
       "Name: 165, dtype: object"
      ]
     },
     "execution_count": 9,
     "metadata": {},
     "output_type": "execute_result"
    }
   ],
   "source": [
    "#Correcting the entries at roq 165 and shifting it to right\n",
    "df.at[165, 'DC']= 14.6\n",
    "df.at[165, 'ISI']= 9\n",
    "df.at[165, 'BUI']= 12.5\n",
    "df.at[165, 'FWI']= 10.4\n",
    "df.at[165, 'Classes']= 'fire'\n",
    "df.iloc[165]"
   ]
  },
  {
   "cell_type": "code",
   "execution_count": 10,
   "id": "d3f6f785",
   "metadata": {},
   "outputs": [
    {
     "data": {
      "text/plain": [
       "day            0\n",
       "month          0\n",
       "year           0\n",
       "Temperature    0\n",
       "RH             0\n",
       "Ws             0\n",
       "Rain           0\n",
       "FFMC           0\n",
       "DMC            0\n",
       "DC             0\n",
       "ISI            0\n",
       "BUI            0\n",
       "FWI            0\n",
       "Classes        0\n",
       "Region         0\n",
       "dtype: int64"
      ]
     },
     "execution_count": 10,
     "metadata": {},
     "output_type": "execute_result"
    }
   ],
   "source": [
    "#Lets check again for Null values\n",
    "df.isnull().sum()"
   ]
  },
  {
   "cell_type": "markdown",
   "id": "0d2dc463",
   "metadata": {},
   "source": [
    "There are no Null values in the dataset"
   ]
  },
  {
   "cell_type": "code",
   "execution_count": 11,
   "id": "8178302f",
   "metadata": {},
   "outputs": [
    {
     "data": {
      "text/plain": [
       "day            0\n",
       "month          0\n",
       "year           0\n",
       "Temperature    0\n",
       "RH             0\n",
       "Ws             0\n",
       "Rain           0\n",
       "FFMC           0\n",
       "DMC            0\n",
       "DC             0\n",
       "ISI            0\n",
       "BUI            0\n",
       "FWI            0\n",
       "Classes        0\n",
       "Region         0\n",
       "dtype: int64"
      ]
     },
     "execution_count": 11,
     "metadata": {},
     "output_type": "execute_result"
    }
   ],
   "source": [
    "#Checking for missing values\n",
    "df.isna().sum()"
   ]
  },
  {
   "cell_type": "markdown",
   "id": "60b789bf",
   "metadata": {},
   "source": [
    "No missing values as well"
   ]
  },
  {
   "cell_type": "code",
   "execution_count": 12,
   "id": "6d3b81be",
   "metadata": {},
   "outputs": [
    {
     "data": {
      "text/plain": [
       "array(['not fire   ', 'fire   ', 'fire', 'fire ', 'not fire', 'not fire ',\n",
       "       'not fire     ', 'not fire    '], dtype=object)"
      ]
     },
     "execution_count": 12,
     "metadata": {},
     "output_type": "execute_result"
    }
   ],
   "source": [
    "#Lets check the unique values in our catagorical variable that is 'Classes'\n",
    "df['Classes'].unique()"
   ]
  },
  {
   "cell_type": "code",
   "execution_count": 13,
   "id": "33efb402",
   "metadata": {},
   "outputs": [
    {
     "data": {
      "text/plain": [
       "array(['not fire', 'fire'], dtype=object)"
      ]
     },
     "execution_count": 13,
     "metadata": {},
     "output_type": "execute_result"
    }
   ],
   "source": [
    "#We can see that there are extra spaces in the entries that we need to remove\n",
    "df['Classes']= [i.strip() for i in df['Classes']]\n",
    "df['Classes'].unique()"
   ]
  },
  {
   "cell_type": "markdown",
   "id": "62c62b25",
   "metadata": {},
   "source": [
    "Extra spaces has been removed"
   ]
  },
  {
   "cell_type": "code",
   "execution_count": 14,
   "id": "bc3cb7ad",
   "metadata": {},
   "outputs": [
    {
     "data": {
      "text/html": [
       "<div>\n",
       "<style scoped>\n",
       "    .dataframe tbody tr th:only-of-type {\n",
       "        vertical-align: middle;\n",
       "    }\n",
       "\n",
       "    .dataframe tbody tr th {\n",
       "        vertical-align: top;\n",
       "    }\n",
       "\n",
       "    .dataframe thead th {\n",
       "        text-align: right;\n",
       "    }\n",
       "</style>\n",
       "<table border=\"1\" class=\"dataframe\">\n",
       "  <thead>\n",
       "    <tr style=\"text-align: right;\">\n",
       "      <th></th>\n",
       "      <th>day</th>\n",
       "      <th>month</th>\n",
       "      <th>year</th>\n",
       "      <th>Temperature</th>\n",
       "      <th>RH</th>\n",
       "      <th>Ws</th>\n",
       "      <th>Rain</th>\n",
       "      <th>FFMC</th>\n",
       "      <th>DMC</th>\n",
       "      <th>DC</th>\n",
       "      <th>ISI</th>\n",
       "      <th>BUI</th>\n",
       "      <th>FWI</th>\n",
       "      <th>Classes</th>\n",
       "      <th>Region</th>\n",
       "    </tr>\n",
       "  </thead>\n",
       "  <tbody>\n",
       "    <tr>\n",
       "      <th>0</th>\n",
       "      <td>1</td>\n",
       "      <td>6</td>\n",
       "      <td>2012</td>\n",
       "      <td>29</td>\n",
       "      <td>57</td>\n",
       "      <td>18</td>\n",
       "      <td>0</td>\n",
       "      <td>65.7</td>\n",
       "      <td>3.4</td>\n",
       "      <td>7.6</td>\n",
       "      <td>1.3</td>\n",
       "      <td>3.4</td>\n",
       "      <td>0.5</td>\n",
       "      <td>not fire</td>\n",
       "      <td>0</td>\n",
       "    </tr>\n",
       "    <tr>\n",
       "      <th>1</th>\n",
       "      <td>2</td>\n",
       "      <td>6</td>\n",
       "      <td>2012</td>\n",
       "      <td>29</td>\n",
       "      <td>61</td>\n",
       "      <td>13</td>\n",
       "      <td>1.3</td>\n",
       "      <td>64.4</td>\n",
       "      <td>4.1</td>\n",
       "      <td>7.6</td>\n",
       "      <td>1</td>\n",
       "      <td>3.9</td>\n",
       "      <td>0.4</td>\n",
       "      <td>not fire</td>\n",
       "      <td>0</td>\n",
       "    </tr>\n",
       "    <tr>\n",
       "      <th>2</th>\n",
       "      <td>3</td>\n",
       "      <td>6</td>\n",
       "      <td>2012</td>\n",
       "      <td>26</td>\n",
       "      <td>82</td>\n",
       "      <td>22</td>\n",
       "      <td>13.1</td>\n",
       "      <td>47.1</td>\n",
       "      <td>2.5</td>\n",
       "      <td>7.1</td>\n",
       "      <td>0.3</td>\n",
       "      <td>2.7</td>\n",
       "      <td>0.1</td>\n",
       "      <td>not fire</td>\n",
       "      <td>0</td>\n",
       "    </tr>\n",
       "    <tr>\n",
       "      <th>3</th>\n",
       "      <td>4</td>\n",
       "      <td>6</td>\n",
       "      <td>2012</td>\n",
       "      <td>25</td>\n",
       "      <td>89</td>\n",
       "      <td>13</td>\n",
       "      <td>2.5</td>\n",
       "      <td>28.6</td>\n",
       "      <td>1.3</td>\n",
       "      <td>6.9</td>\n",
       "      <td>0</td>\n",
       "      <td>1.7</td>\n",
       "      <td>0</td>\n",
       "      <td>not fire</td>\n",
       "      <td>0</td>\n",
       "    </tr>\n",
       "    <tr>\n",
       "      <th>4</th>\n",
       "      <td>5</td>\n",
       "      <td>6</td>\n",
       "      <td>2012</td>\n",
       "      <td>27</td>\n",
       "      <td>77</td>\n",
       "      <td>16</td>\n",
       "      <td>0</td>\n",
       "      <td>64.8</td>\n",
       "      <td>3</td>\n",
       "      <td>14.2</td>\n",
       "      <td>1.2</td>\n",
       "      <td>3.9</td>\n",
       "      <td>0.5</td>\n",
       "      <td>not fire</td>\n",
       "      <td>0</td>\n",
       "    </tr>\n",
       "  </tbody>\n",
       "</table>\n",
       "</div>"
      ],
      "text/plain": [
       "  day month  year Temperature  RH  Ws  Rain  FFMC  DMC    DC  ISI  BUI  FWI  \\\n",
       "0   1     6  2012          29  57  18     0  65.7  3.4   7.6  1.3  3.4  0.5   \n",
       "1   2     6  2012          29  61  13   1.3  64.4  4.1   7.6    1  3.9  0.4   \n",
       "2   3     6  2012          26  82  22  13.1  47.1  2.5   7.1  0.3  2.7  0.1   \n",
       "3   4     6  2012          25  89  13   2.5  28.6  1.3   6.9    0  1.7    0   \n",
       "4   5     6  2012          27  77  16     0  64.8    3  14.2  1.2  3.9  0.5   \n",
       "\n",
       "    Classes  Region  \n",
       "0  not fire       0  \n",
       "1  not fire       0  \n",
       "2  not fire       0  \n",
       "3  not fire       0  \n",
       "4  not fire       0  "
      ]
     },
     "execution_count": 14,
     "metadata": {},
     "output_type": "execute_result"
    }
   ],
   "source": [
    "df.head()"
   ]
  },
  {
   "cell_type": "markdown",
   "id": "c96bd0a1",
   "metadata": {},
   "source": [
    "Observation: The entries of \"year\" column are same throughout and doesnot have any impact on dataset\n",
    "\n",
    "Column \"day\" and \"Month \"also can be removed"
   ]
  },
  {
   "cell_type": "code",
   "execution_count": 15,
   "id": "2ba810f9",
   "metadata": {},
   "outputs": [
    {
     "data": {
      "text/html": [
       "<div>\n",
       "<style scoped>\n",
       "    .dataframe tbody tr th:only-of-type {\n",
       "        vertical-align: middle;\n",
       "    }\n",
       "\n",
       "    .dataframe tbody tr th {\n",
       "        vertical-align: top;\n",
       "    }\n",
       "\n",
       "    .dataframe thead th {\n",
       "        text-align: right;\n",
       "    }\n",
       "</style>\n",
       "<table border=\"1\" class=\"dataframe\">\n",
       "  <thead>\n",
       "    <tr style=\"text-align: right;\">\n",
       "      <th></th>\n",
       "      <th>Temperature</th>\n",
       "      <th>RH</th>\n",
       "      <th>Ws</th>\n",
       "      <th>Rain</th>\n",
       "      <th>FFMC</th>\n",
       "      <th>DMC</th>\n",
       "      <th>DC</th>\n",
       "      <th>ISI</th>\n",
       "      <th>BUI</th>\n",
       "      <th>FWI</th>\n",
       "      <th>Classes</th>\n",
       "      <th>Region</th>\n",
       "    </tr>\n",
       "  </thead>\n",
       "  <tbody>\n",
       "    <tr>\n",
       "      <th>0</th>\n",
       "      <td>29</td>\n",
       "      <td>57</td>\n",
       "      <td>18</td>\n",
       "      <td>0</td>\n",
       "      <td>65.7</td>\n",
       "      <td>3.4</td>\n",
       "      <td>7.6</td>\n",
       "      <td>1.3</td>\n",
       "      <td>3.4</td>\n",
       "      <td>0.5</td>\n",
       "      <td>not fire</td>\n",
       "      <td>0</td>\n",
       "    </tr>\n",
       "    <tr>\n",
       "      <th>1</th>\n",
       "      <td>29</td>\n",
       "      <td>61</td>\n",
       "      <td>13</td>\n",
       "      <td>1.3</td>\n",
       "      <td>64.4</td>\n",
       "      <td>4.1</td>\n",
       "      <td>7.6</td>\n",
       "      <td>1</td>\n",
       "      <td>3.9</td>\n",
       "      <td>0.4</td>\n",
       "      <td>not fire</td>\n",
       "      <td>0</td>\n",
       "    </tr>\n",
       "    <tr>\n",
       "      <th>2</th>\n",
       "      <td>26</td>\n",
       "      <td>82</td>\n",
       "      <td>22</td>\n",
       "      <td>13.1</td>\n",
       "      <td>47.1</td>\n",
       "      <td>2.5</td>\n",
       "      <td>7.1</td>\n",
       "      <td>0.3</td>\n",
       "      <td>2.7</td>\n",
       "      <td>0.1</td>\n",
       "      <td>not fire</td>\n",
       "      <td>0</td>\n",
       "    </tr>\n",
       "    <tr>\n",
       "      <th>3</th>\n",
       "      <td>25</td>\n",
       "      <td>89</td>\n",
       "      <td>13</td>\n",
       "      <td>2.5</td>\n",
       "      <td>28.6</td>\n",
       "      <td>1.3</td>\n",
       "      <td>6.9</td>\n",
       "      <td>0</td>\n",
       "      <td>1.7</td>\n",
       "      <td>0</td>\n",
       "      <td>not fire</td>\n",
       "      <td>0</td>\n",
       "    </tr>\n",
       "    <tr>\n",
       "      <th>4</th>\n",
       "      <td>27</td>\n",
       "      <td>77</td>\n",
       "      <td>16</td>\n",
       "      <td>0</td>\n",
       "      <td>64.8</td>\n",
       "      <td>3</td>\n",
       "      <td>14.2</td>\n",
       "      <td>1.2</td>\n",
       "      <td>3.9</td>\n",
       "      <td>0.5</td>\n",
       "      <td>not fire</td>\n",
       "      <td>0</td>\n",
       "    </tr>\n",
       "  </tbody>\n",
       "</table>\n",
       "</div>"
      ],
      "text/plain": [
       "  Temperature  RH  Ws  Rain  FFMC  DMC    DC  ISI  BUI  FWI   Classes  Region\n",
       "0          29  57  18     0  65.7  3.4   7.6  1.3  3.4  0.5  not fire       0\n",
       "1          29  61  13   1.3  64.4  4.1   7.6    1  3.9  0.4  not fire       0\n",
       "2          26  82  22  13.1  47.1  2.5   7.1  0.3  2.7  0.1  not fire       0\n",
       "3          25  89  13   2.5  28.6  1.3   6.9    0  1.7    0  not fire       0\n",
       "4          27  77  16     0  64.8    3  14.2  1.2  3.9  0.5  not fire       0"
      ]
     },
     "execution_count": 15,
     "metadata": {},
     "output_type": "execute_result"
    }
   ],
   "source": [
    "#Deleting unwanted columns\n",
    "df.drop(columns= ['year','day','month'], inplace= True)\n",
    "df.head()"
   ]
  },
  {
   "cell_type": "code",
   "execution_count": 16,
   "id": "cba0b0db",
   "metadata": {},
   "outputs": [
    {
     "data": {
      "text/plain": [
       "Temperature    object\n",
       "RH             object\n",
       "Ws             object\n",
       "Rain           object\n",
       "FFMC           object\n",
       "DMC            object\n",
       "DC             object\n",
       "ISI            object\n",
       "BUI            object\n",
       "FWI            object\n",
       "Classes        object\n",
       "Region          int64\n",
       "dtype: object"
      ]
     },
     "execution_count": 16,
     "metadata": {},
     "output_type": "execute_result"
    }
   ],
   "source": [
    "##Lets check the data types of columns\n",
    "df.dtypes"
   ]
  },
  {
   "cell_type": "markdown",
   "id": "8b3fcd9b",
   "metadata": {},
   "source": [
    "From our observation we see that columns month,Temperature,RH,Ws,Rain,FFMC,DMC,DC,ISI,BUI,FWI are having Catagorical data which needs to be Numerical.\n",
    "\n",
    "and Region is Numerical and it should be Catagorical\n",
    "\n",
    "Lets check the datatypes as well\n",
    "\n",
    "We need to change the datatypes"
   ]
  },
  {
   "cell_type": "code",
   "execution_count": 17,
   "id": "e4ab42df",
   "metadata": {},
   "outputs": [
    {
     "data": {
      "text/plain": [
       "Temperature      int64\n",
       "RH               int64\n",
       "Ws               int64\n",
       "Rain           float64\n",
       "FFMC           float64\n",
       "DMC            float64\n",
       "DC             float64\n",
       "ISI            float64\n",
       "BUI            float64\n",
       "FWI            float64\n",
       "Classes         object\n",
       "Region          object\n",
       "dtype: object"
      ]
     },
     "execution_count": 17,
     "metadata": {},
     "output_type": "execute_result"
    }
   ],
   "source": [
    "##Converting datatypes of columns\n",
    "col=['Temperature','RH','Ws','Rain','FFMC','DMC','DC','ISI','BUI','FWI']\n",
    "df[col]=df[col].apply(pd.to_numeric)\n",
    "\n",
    "df['Region']=df['Region'].apply(str)\n",
    "#Lets check again\n",
    "df.dtypes"
   ]
  },
  {
   "cell_type": "code",
   "execution_count": 18,
   "id": "ee753d7f",
   "metadata": {},
   "outputs": [
    {
     "data": {
      "text/plain": [
       "0      False\n",
       "1      False\n",
       "2      False\n",
       "3      False\n",
       "4      False\n",
       "       ...  \n",
       "239    False\n",
       "240    False\n",
       "241    False\n",
       "242    False\n",
       "243    False\n",
       "Length: 244, dtype: bool"
      ]
     },
     "execution_count": 18,
     "metadata": {},
     "output_type": "execute_result"
    }
   ],
   "source": [
    "# Lets check for duplicates\n",
    "df.duplicated()"
   ]
  },
  {
   "cell_type": "code",
   "execution_count": 19,
   "id": "be421b83",
   "metadata": {},
   "outputs": [
    {
     "data": {
      "text/plain": [
       "0      False\n",
       "1      False\n",
       "2      False\n",
       "3      False\n",
       "4      False\n",
       "       ...  \n",
       "239    False\n",
       "240    False\n",
       "241    False\n",
       "242    False\n",
       "243    False\n",
       "Length: 244, dtype: bool"
      ]
     },
     "execution_count": 19,
     "metadata": {},
     "output_type": "execute_result"
    }
   ],
   "source": [
    "# Lets check for duplicates\n",
    "df.duplicated()"
   ]
  },
  {
   "cell_type": "markdown",
   "id": "57aa75b1",
   "metadata": {},
   "source": [
    "Observation: No duplicate data available"
   ]
  },
  {
   "cell_type": "markdown",
   "id": "9c638070",
   "metadata": {},
   "source": [
    "# Statistical Information"
   ]
  },
  {
   "cell_type": "code",
   "execution_count": 20,
   "id": "b6989883",
   "metadata": {},
   "outputs": [
    {
     "data": {
      "text/html": [
       "<div>\n",
       "<style scoped>\n",
       "    .dataframe tbody tr th:only-of-type {\n",
       "        vertical-align: middle;\n",
       "    }\n",
       "\n",
       "    .dataframe tbody tr th {\n",
       "        vertical-align: top;\n",
       "    }\n",
       "\n",
       "    .dataframe thead th {\n",
       "        text-align: right;\n",
       "    }\n",
       "</style>\n",
       "<table border=\"1\" class=\"dataframe\">\n",
       "  <thead>\n",
       "    <tr style=\"text-align: right;\">\n",
       "      <th></th>\n",
       "      <th>Temperature</th>\n",
       "      <th>RH</th>\n",
       "      <th>Ws</th>\n",
       "      <th>Rain</th>\n",
       "      <th>FFMC</th>\n",
       "      <th>DMC</th>\n",
       "      <th>DC</th>\n",
       "      <th>ISI</th>\n",
       "      <th>BUI</th>\n",
       "      <th>FWI</th>\n",
       "    </tr>\n",
       "  </thead>\n",
       "  <tbody>\n",
       "    <tr>\n",
       "      <th>count</th>\n",
       "      <td>244.000000</td>\n",
       "      <td>244.000000</td>\n",
       "      <td>244.000000</td>\n",
       "      <td>244.000000</td>\n",
       "      <td>244.000000</td>\n",
       "      <td>244.000000</td>\n",
       "      <td>244.000000</td>\n",
       "      <td>244.000000</td>\n",
       "      <td>244.000000</td>\n",
       "      <td>244.000000</td>\n",
       "    </tr>\n",
       "    <tr>\n",
       "      <th>mean</th>\n",
       "      <td>32.172131</td>\n",
       "      <td>61.938525</td>\n",
       "      <td>15.504098</td>\n",
       "      <td>0.760656</td>\n",
       "      <td>77.887705</td>\n",
       "      <td>14.673361</td>\n",
       "      <td>49.288115</td>\n",
       "      <td>4.759836</td>\n",
       "      <td>16.673361</td>\n",
       "      <td>7.049180</td>\n",
       "    </tr>\n",
       "    <tr>\n",
       "      <th>std</th>\n",
       "      <td>3.633843</td>\n",
       "      <td>14.884200</td>\n",
       "      <td>2.810178</td>\n",
       "      <td>1.999406</td>\n",
       "      <td>14.337571</td>\n",
       "      <td>12.368039</td>\n",
       "      <td>47.619662</td>\n",
       "      <td>4.154628</td>\n",
       "      <td>14.201648</td>\n",
       "      <td>7.428366</td>\n",
       "    </tr>\n",
       "    <tr>\n",
       "      <th>min</th>\n",
       "      <td>22.000000</td>\n",
       "      <td>21.000000</td>\n",
       "      <td>6.000000</td>\n",
       "      <td>0.000000</td>\n",
       "      <td>28.600000</td>\n",
       "      <td>0.700000</td>\n",
       "      <td>6.900000</td>\n",
       "      <td>0.000000</td>\n",
       "      <td>1.100000</td>\n",
       "      <td>0.000000</td>\n",
       "    </tr>\n",
       "    <tr>\n",
       "      <th>25%</th>\n",
       "      <td>30.000000</td>\n",
       "      <td>52.000000</td>\n",
       "      <td>14.000000</td>\n",
       "      <td>0.000000</td>\n",
       "      <td>72.075000</td>\n",
       "      <td>5.800000</td>\n",
       "      <td>13.275000</td>\n",
       "      <td>1.400000</td>\n",
       "      <td>6.000000</td>\n",
       "      <td>0.700000</td>\n",
       "    </tr>\n",
       "    <tr>\n",
       "      <th>50%</th>\n",
       "      <td>32.000000</td>\n",
       "      <td>63.000000</td>\n",
       "      <td>15.000000</td>\n",
       "      <td>0.000000</td>\n",
       "      <td>83.500000</td>\n",
       "      <td>11.300000</td>\n",
       "      <td>33.100000</td>\n",
       "      <td>3.500000</td>\n",
       "      <td>12.450000</td>\n",
       "      <td>4.450000</td>\n",
       "    </tr>\n",
       "    <tr>\n",
       "      <th>75%</th>\n",
       "      <td>35.000000</td>\n",
       "      <td>73.250000</td>\n",
       "      <td>17.000000</td>\n",
       "      <td>0.500000</td>\n",
       "      <td>88.300000</td>\n",
       "      <td>20.750000</td>\n",
       "      <td>68.150000</td>\n",
       "      <td>7.300000</td>\n",
       "      <td>22.525000</td>\n",
       "      <td>11.375000</td>\n",
       "    </tr>\n",
       "    <tr>\n",
       "      <th>max</th>\n",
       "      <td>42.000000</td>\n",
       "      <td>90.000000</td>\n",
       "      <td>29.000000</td>\n",
       "      <td>16.800000</td>\n",
       "      <td>96.000000</td>\n",
       "      <td>65.900000</td>\n",
       "      <td>220.400000</td>\n",
       "      <td>19.000000</td>\n",
       "      <td>68.000000</td>\n",
       "      <td>31.100000</td>\n",
       "    </tr>\n",
       "  </tbody>\n",
       "</table>\n",
       "</div>"
      ],
      "text/plain": [
       "       Temperature          RH          Ws        Rain        FFMC  \\\n",
       "count   244.000000  244.000000  244.000000  244.000000  244.000000   \n",
       "mean     32.172131   61.938525   15.504098    0.760656   77.887705   \n",
       "std       3.633843   14.884200    2.810178    1.999406   14.337571   \n",
       "min      22.000000   21.000000    6.000000    0.000000   28.600000   \n",
       "25%      30.000000   52.000000   14.000000    0.000000   72.075000   \n",
       "50%      32.000000   63.000000   15.000000    0.000000   83.500000   \n",
       "75%      35.000000   73.250000   17.000000    0.500000   88.300000   \n",
       "max      42.000000   90.000000   29.000000   16.800000   96.000000   \n",
       "\n",
       "              DMC          DC         ISI         BUI         FWI  \n",
       "count  244.000000  244.000000  244.000000  244.000000  244.000000  \n",
       "mean    14.673361   49.288115    4.759836   16.673361    7.049180  \n",
       "std     12.368039   47.619662    4.154628   14.201648    7.428366  \n",
       "min      0.700000    6.900000    0.000000    1.100000    0.000000  \n",
       "25%      5.800000   13.275000    1.400000    6.000000    0.700000  \n",
       "50%     11.300000   33.100000    3.500000   12.450000    4.450000  \n",
       "75%     20.750000   68.150000    7.300000   22.525000   11.375000  \n",
       "max     65.900000  220.400000   19.000000   68.000000   31.100000  "
      ]
     },
     "execution_count": 20,
     "metadata": {},
     "output_type": "execute_result"
    }
   ],
   "source": [
    "df.describe()"
   ]
  },
  {
   "cell_type": "code",
   "execution_count": 21,
   "id": "03b0f3aa",
   "metadata": {},
   "outputs": [],
   "source": [
    "#Lets check the Catagorical and Numerical column data in our dataset\n",
    "cat_col=[fea for fea in df.columns if df[fea].dtype == 'O'] #catagorical data\n",
    "num_col=[fea for fea in df.columns if df[fea].dtype != 'O']  #numarical data"
   ]
  },
  {
   "cell_type": "markdown",
   "id": "9d5757a7",
   "metadata": {},
   "source": [
    "Lets check the distribution of Numerical data"
   ]
  },
  {
   "cell_type": "code",
   "execution_count": 22,
   "id": "56aa84f5",
   "metadata": {},
   "outputs": [
    {
     "data": {
      "image/png": "[encoded data removed]",
      "text/plain": [
       "<Figure size 1080x1080 with 10 Axes>"
      ]
     },
     "metadata": {},
     "output_type": "display_data"
    }
   ],
   "source": [
    "plt.figure(figsize=(15,15))\n",
    "plt.suptitle('Distribution of Numerical Variable', fontsize=20, fontweight='bold')\n",
    "\n",
    "for i in range (0, len(num_col)):\n",
    "    plt.subplot(5,3,i+1)\n",
    "    sns.distplot(df[num_col[i]], color='g')\n",
    "    plt.xlabel(num_col[i])"
   ]
  },
  {
   "cell_type": "code",
   "execution_count": 23,
   "id": "979c5f1e",
   "metadata": {},
   "outputs": [
    {
     "data": {
      "text/plain": [
       "0    50.0\n",
       "1    50.0\n",
       "Name: Region, dtype: float64"
      ]
     },
     "execution_count": 23,
     "metadata": {},
     "output_type": "execute_result"
    }
   ],
   "source": [
    "percentage = df.Region.value_counts(normalize=True)*100\n",
    "percentage"
   ]
  },
  {
   "cell_type": "code",
   "execution_count": 24,
   "id": "a53ba2f0",
   "metadata": {},
   "outputs": [
    {
     "data": {
      "text/plain": [
       "Text(0.5, 1.0, 'Region Distributions \\n 0: Bejaia Region || 1: Sidi-Bel Abbes Region')"
      ]
     },
     "execution_count": 24,
     "metadata": {},
     "output_type": "execute_result"
    },
    {
     "data": {
      "image/png": "[encoded data removed]",
      "text/plain": [
       "<Figure size 432x288 with 1 Axes>"
      ]
     },
     "metadata": {},
     "output_type": "display_data"
    }
   ],
   "source": [
    "sns.countplot('Region', data=df, palette=\"tab10\")\n",
    "plt.title('Region Distributions \\n 0: Bejaia Region || 1: Sidi-Bel Abbes Region', fontsize=14)"
   ]
  },
  {
   "cell_type": "markdown",
   "id": "c659c55b",
   "metadata": {},
   "source": [
    "Data is balanced "
   ]
  },
  {
   "cell_type": "code",
   "execution_count": 25,
   "id": "2472ded8",
   "metadata": {},
   "outputs": [
    {
     "data": {
      "text/plain": [
       "<AxesSubplot:>"
      ]
     },
     "execution_count": 25,
     "metadata": {},
     "output_type": "execute_result"
    },
    {
     "data": {
      "image/png": "[encoded data removed]",
      "text/plain": [
       "<Figure size 1440x720 with 1 Axes>"
      ]
     },
     "metadata": {},
     "output_type": "display_data"
    }
   ],
   "source": [
    "#Outliers\n",
    "plt.figure(figsize=(20,10))\n",
    "sns.boxplot(data = df, orient='v')"
   ]
  },
  {
   "cell_type": "markdown",
   "id": "a65680d0",
   "metadata": {},
   "source": [
    "Temperature, Ws, Rain, FFMC, DMC, DC, ISI, BUI and FWI having outliers.\n",
    "\n",
    "\n",
    "\n",
    "Let's deal with that. we can either remove such data or simply replace it with their respective mean values. Let's do the latter."
   ]
  },
  {
   "cell_type": "code",
   "execution_count": 26,
   "id": "ee984a17",
   "metadata": {},
   "outputs": [
    {
     "data": {
      "text/html": [
       "<div>\n",
       "<style scoped>\n",
       "    .dataframe tbody tr th:only-of-type {\n",
       "        vertical-align: middle;\n",
       "    }\n",
       "\n",
       "    .dataframe tbody tr th {\n",
       "        vertical-align: top;\n",
       "    }\n",
       "\n",
       "    .dataframe thead th {\n",
       "        text-align: right;\n",
       "    }\n",
       "</style>\n",
       "<table border=\"1\" class=\"dataframe\">\n",
       "  <thead>\n",
       "    <tr style=\"text-align: right;\">\n",
       "      <th></th>\n",
       "      <th>Temperature</th>\n",
       "      <th>RH</th>\n",
       "      <th>Ws</th>\n",
       "      <th>Rain</th>\n",
       "      <th>FFMC</th>\n",
       "      <th>DMC</th>\n",
       "      <th>DC</th>\n",
       "      <th>ISI</th>\n",
       "      <th>BUI</th>\n",
       "      <th>FWI</th>\n",
       "      <th>Classes</th>\n",
       "      <th>Region</th>\n",
       "    </tr>\n",
       "  </thead>\n",
       "  <tbody>\n",
       "    <tr>\n",
       "      <th>0</th>\n",
       "      <td>29</td>\n",
       "      <td>57</td>\n",
       "      <td>18</td>\n",
       "      <td>0.0</td>\n",
       "      <td>65.7</td>\n",
       "      <td>3.4</td>\n",
       "      <td>7.6</td>\n",
       "      <td>1.3</td>\n",
       "      <td>3.4</td>\n",
       "      <td>0.5</td>\n",
       "      <td>not fire</td>\n",
       "      <td>0</td>\n",
       "    </tr>\n",
       "    <tr>\n",
       "      <th>1</th>\n",
       "      <td>29</td>\n",
       "      <td>61</td>\n",
       "      <td>13</td>\n",
       "      <td>1.3</td>\n",
       "      <td>64.4</td>\n",
       "      <td>4.1</td>\n",
       "      <td>7.6</td>\n",
       "      <td>1.0</td>\n",
       "      <td>3.9</td>\n",
       "      <td>0.4</td>\n",
       "      <td>not fire</td>\n",
       "      <td>0</td>\n",
       "    </tr>\n",
       "    <tr>\n",
       "      <th>2</th>\n",
       "      <td>26</td>\n",
       "      <td>82</td>\n",
       "      <td>22</td>\n",
       "      <td>13.1</td>\n",
       "      <td>47.1</td>\n",
       "      <td>2.5</td>\n",
       "      <td>7.1</td>\n",
       "      <td>0.3</td>\n",
       "      <td>2.7</td>\n",
       "      <td>0.1</td>\n",
       "      <td>not fire</td>\n",
       "      <td>0</td>\n",
       "    </tr>\n",
       "    <tr>\n",
       "      <th>3</th>\n",
       "      <td>25</td>\n",
       "      <td>89</td>\n",
       "      <td>13</td>\n",
       "      <td>2.5</td>\n",
       "      <td>28.6</td>\n",
       "      <td>1.3</td>\n",
       "      <td>6.9</td>\n",
       "      <td>0.0</td>\n",
       "      <td>1.7</td>\n",
       "      <td>0.0</td>\n",
       "      <td>not fire</td>\n",
       "      <td>0</td>\n",
       "    </tr>\n",
       "    <tr>\n",
       "      <th>4</th>\n",
       "      <td>27</td>\n",
       "      <td>77</td>\n",
       "      <td>16</td>\n",
       "      <td>0.0</td>\n",
       "      <td>64.8</td>\n",
       "      <td>3.0</td>\n",
       "      <td>14.2</td>\n",
       "      <td>1.2</td>\n",
       "      <td>3.9</td>\n",
       "      <td>0.5</td>\n",
       "      <td>not fire</td>\n",
       "      <td>0</td>\n",
       "    </tr>\n",
       "    <tr>\n",
       "      <th>...</th>\n",
       "      <td>...</td>\n",
       "      <td>...</td>\n",
       "      <td>...</td>\n",
       "      <td>...</td>\n",
       "      <td>...</td>\n",
       "      <td>...</td>\n",
       "      <td>...</td>\n",
       "      <td>...</td>\n",
       "      <td>...</td>\n",
       "      <td>...</td>\n",
       "      <td>...</td>\n",
       "      <td>...</td>\n",
       "    </tr>\n",
       "    <tr>\n",
       "      <th>239</th>\n",
       "      <td>30</td>\n",
       "      <td>65</td>\n",
       "      <td>14</td>\n",
       "      <td>0.0</td>\n",
       "      <td>85.4</td>\n",
       "      <td>16.0</td>\n",
       "      <td>44.5</td>\n",
       "      <td>4.5</td>\n",
       "      <td>16.9</td>\n",
       "      <td>6.5</td>\n",
       "      <td>fire</td>\n",
       "      <td>1</td>\n",
       "    </tr>\n",
       "    <tr>\n",
       "      <th>240</th>\n",
       "      <td>28</td>\n",
       "      <td>87</td>\n",
       "      <td>15</td>\n",
       "      <td>4.4</td>\n",
       "      <td>41.1</td>\n",
       "      <td>6.5</td>\n",
       "      <td>8.0</td>\n",
       "      <td>0.1</td>\n",
       "      <td>6.2</td>\n",
       "      <td>0.0</td>\n",
       "      <td>not fire</td>\n",
       "      <td>1</td>\n",
       "    </tr>\n",
       "    <tr>\n",
       "      <th>241</th>\n",
       "      <td>27</td>\n",
       "      <td>87</td>\n",
       "      <td>29</td>\n",
       "      <td>0.5</td>\n",
       "      <td>45.9</td>\n",
       "      <td>3.5</td>\n",
       "      <td>7.9</td>\n",
       "      <td>0.4</td>\n",
       "      <td>3.4</td>\n",
       "      <td>0.2</td>\n",
       "      <td>not fire</td>\n",
       "      <td>1</td>\n",
       "    </tr>\n",
       "    <tr>\n",
       "      <th>242</th>\n",
       "      <td>24</td>\n",
       "      <td>54</td>\n",
       "      <td>18</td>\n",
       "      <td>0.1</td>\n",
       "      <td>79.7</td>\n",
       "      <td>4.3</td>\n",
       "      <td>15.2</td>\n",
       "      <td>1.7</td>\n",
       "      <td>5.1</td>\n",
       "      <td>0.7</td>\n",
       "      <td>not fire</td>\n",
       "      <td>1</td>\n",
       "    </tr>\n",
       "    <tr>\n",
       "      <th>243</th>\n",
       "      <td>24</td>\n",
       "      <td>64</td>\n",
       "      <td>15</td>\n",
       "      <td>0.2</td>\n",
       "      <td>67.3</td>\n",
       "      <td>3.8</td>\n",
       "      <td>16.5</td>\n",
       "      <td>1.2</td>\n",
       "      <td>4.8</td>\n",
       "      <td>0.5</td>\n",
       "      <td>not fire</td>\n",
       "      <td>1</td>\n",
       "    </tr>\n",
       "  </tbody>\n",
       "</table>\n",
       "<p>244 rows × 12 columns</p>\n",
       "</div>"
      ],
      "text/plain": [
       "     Temperature  RH  Ws  Rain  FFMC   DMC    DC  ISI   BUI  FWI   Classes  \\\n",
       "0             29  57  18   0.0  65.7   3.4   7.6  1.3   3.4  0.5  not fire   \n",
       "1             29  61  13   1.3  64.4   4.1   7.6  1.0   3.9  0.4  not fire   \n",
       "2             26  82  22  13.1  47.1   2.5   7.1  0.3   2.7  0.1  not fire   \n",
       "3             25  89  13   2.5  28.6   1.3   6.9  0.0   1.7  0.0  not fire   \n",
       "4             27  77  16   0.0  64.8   3.0  14.2  1.2   3.9  0.5  not fire   \n",
       "..           ...  ..  ..   ...   ...   ...   ...  ...   ...  ...       ...   \n",
       "239           30  65  14   0.0  85.4  16.0  44.5  4.5  16.9  6.5      fire   \n",
       "240           28  87  15   4.4  41.1   6.5   8.0  0.1   6.2  0.0  not fire   \n",
       "241           27  87  29   0.5  45.9   3.5   7.9  0.4   3.4  0.2  not fire   \n",
       "242           24  54  18   0.1  79.7   4.3  15.2  1.7   5.1  0.7  not fire   \n",
       "243           24  64  15   0.2  67.3   3.8  16.5  1.2   4.8  0.5  not fire   \n",
       "\n",
       "    Region  \n",
       "0        0  \n",
       "1        0  \n",
       "2        0  \n",
       "3        0  \n",
       "4        0  \n",
       "..     ...  \n",
       "239      1  \n",
       "240      1  \n",
       "241      1  \n",
       "242      1  \n",
       "243      1  \n",
       "\n",
       "[244 rows x 12 columns]"
      ]
     },
     "execution_count": 26,
     "metadata": {},
     "output_type": "execute_result"
    }
   ],
   "source": [
    "df"
   ]
  },
  {
   "cell_type": "code",
   "execution_count": 27,
   "id": "f6b36048",
   "metadata": {},
   "outputs": [
    {
     "data": {
      "text/html": [
       "<div>\n",
       "<style scoped>\n",
       "    .dataframe tbody tr th:only-of-type {\n",
       "        vertical-align: middle;\n",
       "    }\n",
       "\n",
       "    .dataframe tbody tr th {\n",
       "        vertical-align: top;\n",
       "    }\n",
       "\n",
       "    .dataframe thead th {\n",
       "        text-align: right;\n",
       "    }\n",
       "</style>\n",
       "<table border=\"1\" class=\"dataframe\">\n",
       "  <thead>\n",
       "    <tr style=\"text-align: right;\">\n",
       "      <th></th>\n",
       "      <th>Temperature</th>\n",
       "      <th>RH</th>\n",
       "      <th>Ws</th>\n",
       "      <th>Rain</th>\n",
       "      <th>FFMC</th>\n",
       "      <th>DMC</th>\n",
       "      <th>DC</th>\n",
       "      <th>ISI</th>\n",
       "      <th>BUI</th>\n",
       "      <th>FWI</th>\n",
       "      <th>Classes</th>\n",
       "      <th>Region</th>\n",
       "    </tr>\n",
       "  </thead>\n",
       "  <tbody>\n",
       "    <tr>\n",
       "      <th>0</th>\n",
       "      <td>29</td>\n",
       "      <td>57</td>\n",
       "      <td>18</td>\n",
       "      <td>0.0</td>\n",
       "      <td>65.7</td>\n",
       "      <td>3.4</td>\n",
       "      <td>7.6</td>\n",
       "      <td>1.3</td>\n",
       "      <td>3.4</td>\n",
       "      <td>0.5</td>\n",
       "      <td>0</td>\n",
       "      <td>0</td>\n",
       "    </tr>\n",
       "    <tr>\n",
       "      <th>1</th>\n",
       "      <td>29</td>\n",
       "      <td>61</td>\n",
       "      <td>13</td>\n",
       "      <td>1.3</td>\n",
       "      <td>64.4</td>\n",
       "      <td>4.1</td>\n",
       "      <td>7.6</td>\n",
       "      <td>1.0</td>\n",
       "      <td>3.9</td>\n",
       "      <td>0.4</td>\n",
       "      <td>0</td>\n",
       "      <td>0</td>\n",
       "    </tr>\n",
       "    <tr>\n",
       "      <th>2</th>\n",
       "      <td>26</td>\n",
       "      <td>82</td>\n",
       "      <td>22</td>\n",
       "      <td>13.1</td>\n",
       "      <td>47.1</td>\n",
       "      <td>2.5</td>\n",
       "      <td>7.1</td>\n",
       "      <td>0.3</td>\n",
       "      <td>2.7</td>\n",
       "      <td>0.1</td>\n",
       "      <td>0</td>\n",
       "      <td>0</td>\n",
       "    </tr>\n",
       "    <tr>\n",
       "      <th>3</th>\n",
       "      <td>25</td>\n",
       "      <td>89</td>\n",
       "      <td>13</td>\n",
       "      <td>2.5</td>\n",
       "      <td>28.6</td>\n",
       "      <td>1.3</td>\n",
       "      <td>6.9</td>\n",
       "      <td>0.0</td>\n",
       "      <td>1.7</td>\n",
       "      <td>0.0</td>\n",
       "      <td>0</td>\n",
       "      <td>0</td>\n",
       "    </tr>\n",
       "    <tr>\n",
       "      <th>4</th>\n",
       "      <td>27</td>\n",
       "      <td>77</td>\n",
       "      <td>16</td>\n",
       "      <td>0.0</td>\n",
       "      <td>64.8</td>\n",
       "      <td>3.0</td>\n",
       "      <td>14.2</td>\n",
       "      <td>1.2</td>\n",
       "      <td>3.9</td>\n",
       "      <td>0.5</td>\n",
       "      <td>0</td>\n",
       "      <td>0</td>\n",
       "    </tr>\n",
       "    <tr>\n",
       "      <th>...</th>\n",
       "      <td>...</td>\n",
       "      <td>...</td>\n",
       "      <td>...</td>\n",
       "      <td>...</td>\n",
       "      <td>...</td>\n",
       "      <td>...</td>\n",
       "      <td>...</td>\n",
       "      <td>...</td>\n",
       "      <td>...</td>\n",
       "      <td>...</td>\n",
       "      <td>...</td>\n",
       "      <td>...</td>\n",
       "    </tr>\n",
       "    <tr>\n",
       "      <th>239</th>\n",
       "      <td>30</td>\n",
       "      <td>65</td>\n",
       "      <td>14</td>\n",
       "      <td>0.0</td>\n",
       "      <td>85.4</td>\n",
       "      <td>16.0</td>\n",
       "      <td>44.5</td>\n",
       "      <td>4.5</td>\n",
       "      <td>16.9</td>\n",
       "      <td>6.5</td>\n",
       "      <td>1</td>\n",
       "      <td>1</td>\n",
       "    </tr>\n",
       "    <tr>\n",
       "      <th>240</th>\n",
       "      <td>28</td>\n",
       "      <td>87</td>\n",
       "      <td>15</td>\n",
       "      <td>4.4</td>\n",
       "      <td>41.1</td>\n",
       "      <td>6.5</td>\n",
       "      <td>8.0</td>\n",
       "      <td>0.1</td>\n",
       "      <td>6.2</td>\n",
       "      <td>0.0</td>\n",
       "      <td>0</td>\n",
       "      <td>1</td>\n",
       "    </tr>\n",
       "    <tr>\n",
       "      <th>241</th>\n",
       "      <td>27</td>\n",
       "      <td>87</td>\n",
       "      <td>29</td>\n",
       "      <td>0.5</td>\n",
       "      <td>45.9</td>\n",
       "      <td>3.5</td>\n",
       "      <td>7.9</td>\n",
       "      <td>0.4</td>\n",
       "      <td>3.4</td>\n",
       "      <td>0.2</td>\n",
       "      <td>0</td>\n",
       "      <td>1</td>\n",
       "    </tr>\n",
       "    <tr>\n",
       "      <th>242</th>\n",
       "      <td>24</td>\n",
       "      <td>54</td>\n",
       "      <td>18</td>\n",
       "      <td>0.1</td>\n",
       "      <td>79.7</td>\n",
       "      <td>4.3</td>\n",
       "      <td>15.2</td>\n",
       "      <td>1.7</td>\n",
       "      <td>5.1</td>\n",
       "      <td>0.7</td>\n",
       "      <td>0</td>\n",
       "      <td>1</td>\n",
       "    </tr>\n",
       "    <tr>\n",
       "      <th>243</th>\n",
       "      <td>24</td>\n",
       "      <td>64</td>\n",
       "      <td>15</td>\n",
       "      <td>0.2</td>\n",
       "      <td>67.3</td>\n",
       "      <td>3.8</td>\n",
       "      <td>16.5</td>\n",
       "      <td>1.2</td>\n",
       "      <td>4.8</td>\n",
       "      <td>0.5</td>\n",
       "      <td>0</td>\n",
       "      <td>1</td>\n",
       "    </tr>\n",
       "  </tbody>\n",
       "</table>\n",
       "<p>244 rows × 12 columns</p>\n",
       "</div>"
      ],
      "text/plain": [
       "     Temperature  RH  Ws  Rain  FFMC   DMC    DC  ISI   BUI  FWI  Classes  \\\n",
       "0             29  57  18   0.0  65.7   3.4   7.6  1.3   3.4  0.5        0   \n",
       "1             29  61  13   1.3  64.4   4.1   7.6  1.0   3.9  0.4        0   \n",
       "2             26  82  22  13.1  47.1   2.5   7.1  0.3   2.7  0.1        0   \n",
       "3             25  89  13   2.5  28.6   1.3   6.9  0.0   1.7  0.0        0   \n",
       "4             27  77  16   0.0  64.8   3.0  14.2  1.2   3.9  0.5        0   \n",
       "..           ...  ..  ..   ...   ...   ...   ...  ...   ...  ...      ...   \n",
       "239           30  65  14   0.0  85.4  16.0  44.5  4.5  16.9  6.5        1   \n",
       "240           28  87  15   4.4  41.1   6.5   8.0  0.1   6.2  0.0        0   \n",
       "241           27  87  29   0.5  45.9   3.5   7.9  0.4   3.4  0.2        0   \n",
       "242           24  54  18   0.1  79.7   4.3  15.2  1.7   5.1  0.7        0   \n",
       "243           24  64  15   0.2  67.3   3.8  16.5  1.2   4.8  0.5        0   \n",
       "\n",
       "    Region  \n",
       "0        0  \n",
       "1        0  \n",
       "2        0  \n",
       "3        0  \n",
       "4        0  \n",
       "..     ...  \n",
       "239      1  \n",
       "240      1  \n",
       "241      1  \n",
       "242      1  \n",
       "243      1  \n",
       "\n",
       "[244 rows x 12 columns]"
      ]
     },
     "execution_count": 27,
     "metadata": {},
     "output_type": "execute_result"
    }
   ],
   "source": [
    "df['Classes']=df['Classes'].map({'not fire': 0,'fire': 1})\n",
    "df\n"
   ]
  },
  {
   "cell_type": "code",
   "execution_count": 28,
   "id": "0082d382",
   "metadata": {},
   "outputs": [],
   "source": [
    "df1=df.copy()"
   ]
  },
  {
   "cell_type": "code",
   "execution_count": 30,
   "id": "bae26146",
   "metadata": {},
   "outputs": [],
   "source": [
    "def remove_outliers_IQR(df,col_name):\n",
    "    q1 = df[col_name].quantile(0.25)\n",
    "    q3 = df[col_name].quantile(0.75)\n",
    "    print(\"q1\",q1)\n",
    "    print(\"q3\",q3)\n",
    "    iqr = q3 - q1\n",
    "    upper_bound = q3 + (1.5 * iqr)\n",
    "    lower_bound = q1 - (1.5 * iqr)\n",
    "    print(\"Upper Bound\",upper_bound)\n",
    "    print(\"Lower Bound\",lower_bound)\n",
    "    print(\"IQR\", iqr)\n",
    "    df1[col_name] = np.where(df1[col_name]>upper_bound, upper_bound, np.where(df1[col_name]<lower_bound,lower_bound,df1[col_name]))\n",
    "    return df1[df1[col_name] > upper_bound]\n"
   ]
  },
  {
   "cell_type": "markdown",
   "id": "e2c0d52e",
   "metadata": {},
   "source": [
    "**Comparision plot between df and df1 columns containing outliers**"
   ]
  },
  {
   "cell_type": "code",
   "execution_count": 42,
   "id": "1d6b9e8a",
   "metadata": {},
   "outputs": [],
   "source": [
    "def create_comparison_plot(df,df1,column):\n",
    " plt.figure(figsize=(16,8))\n",
    " plt.subplot(2,2,1)\n",
    " sns.distplot(df[column])\n",
    " plt.subplot(2,2,2)\n",
    " sns.boxplot(df[column])\n",
    " plt.subplot(2,2,3)\n",
    " sns.distplot(df1[column])\n",
    " plt.subplot(2,2,4)\n",
    " sns.boxplot(df1[column])\n",
    " plt.show()\n"
   ]
  },
  {
   "cell_type": "code",
   "execution_count": 32,
   "id": "9ac8b2e6",
   "metadata": {},
   "outputs": [
    {
     "name": "stdout",
     "output_type": "stream",
     "text": [
      "q1 30.0\n",
      "q3 35.0\n",
      "Upper Bound 42.5\n",
      "Lower Bound 22.5\n",
      "IQR 5.0\n"
     ]
    },
    {
     "data": {
      "image/png": "[encoded data removed]",
      "text/plain": [
       "<Figure size 1152x576 with 4 Axes>"
      ]
     },
     "metadata": {},
     "output_type": "display_data"
    }
   ],
   "source": [
    "remove_outliers_IQR(df, 'Temperature')\n",
    "create_comparison_plot(df,df1,\"Temperature\")"
   ]
  },
  {
   "cell_type": "code",
   "execution_count": 33,
   "id": "5ce61d7f",
   "metadata": {},
   "outputs": [
    {
     "name": "stdout",
     "output_type": "stream",
     "text": [
      "q1 14.0\n",
      "q3 17.0\n",
      "Upper Bound 21.5\n",
      "Lower Bound 9.5\n",
      "IQR 3.0\n"
     ]
    },
    {
     "data": {
      "image/png": "[encoded data removed]",
      "text/plain": [
       "<Figure size 1152x576 with 4 Axes>"
      ]
     },
     "metadata": {},
     "output_type": "display_data"
    }
   ],
   "source": [
    "remove_outliers_IQR(df,'Ws')\n",
    "create_comparison_plot(df,df1,\"Ws\")"
   ]
  },
  {
   "cell_type": "code",
   "execution_count": 34,
   "id": "0d40a263",
   "metadata": {},
   "outputs": [
    {
     "name": "stdout",
     "output_type": "stream",
     "text": [
      "q1 0.0\n",
      "q3 0.5\n",
      "Upper Bound 1.25\n",
      "Lower Bound -0.75\n",
      "IQR 0.5\n"
     ]
    },
    {
     "data": {
      "image/png": "[encoded data removed]",
      "text/plain": [
       "<Figure size 1152x576 with 4 Axes>"
      ]
     },
     "metadata": {},
     "output_type": "display_data"
    }
   ],
   "source": [
    "remove_outliers_IQR(df,'Rain')\n",
    "create_comparison_plot(df,df1,\"Rain\")"
   ]
  },
  {
   "cell_type": "code",
   "execution_count": 35,
   "id": "c69edd8e",
   "metadata": {},
   "outputs": [
    {
     "name": "stdout",
     "output_type": "stream",
     "text": [
      "q1 72.075\n",
      "q3 88.3\n",
      "Upper Bound 112.63749999999999\n",
      "Lower Bound 47.73750000000001\n",
      "IQR 16.224999999999994\n"
     ]
    },
    {
     "data": {
      "image/png": "[encoded data removed]",
      "text/plain": [
       "<Figure size 1152x576 with 4 Axes>"
      ]
     },
     "metadata": {},
     "output_type": "display_data"
    }
   ],
   "source": [
    "remove_outliers_IQR(df,'FFMC')\n",
    "create_comparison_plot(df,df1,\"FFMC\")\n"
   ]
  },
  {
   "cell_type": "code",
   "execution_count": 36,
   "id": "05629cec",
   "metadata": {},
   "outputs": [
    {
     "name": "stdout",
     "output_type": "stream",
     "text": [
      "q1 5.8\n",
      "q3 20.75\n",
      "Upper Bound 43.175\n",
      "Lower Bound -16.624999999999996\n",
      "IQR 14.95\n"
     ]
    },
    {
     "data": {
      "image/png": "[encoded data removed]",
      "text/plain": [
       "<Figure size 1152x576 with 4 Axes>"
      ]
     },
     "metadata": {},
     "output_type": "display_data"
    }
   ],
   "source": [
    "remove_outliers_IQR(df,'DMC')\n",
    "create_comparison_plot(df,df1,\"DMC\")"
   ]
  },
  {
   "cell_type": "code",
   "execution_count": 37,
   "id": "40c3df50",
   "metadata": {},
   "outputs": [
    {
     "name": "stdout",
     "output_type": "stream",
     "text": [
      "q1 13.274999999999999\n",
      "q3 68.15\n",
      "Upper Bound 150.46250000000003\n",
      "Lower Bound -69.03750000000002\n",
      "IQR 54.87500000000001\n"
     ]
    },
    {
     "data": {
      "image/png": "[encoded data removed]",
      "text/plain": [
       "<Figure size 1152x576 with 4 Axes>"
      ]
     },
     "metadata": {},
     "output_type": "display_data"
    }
   ],
   "source": [
    "remove_outliers_IQR(df,'DC')\n",
    "create_comparison_plot(df,df1,\"DC\")"
   ]
  },
  {
   "cell_type": "code",
   "execution_count": 38,
   "id": "0bf02dcc",
   "metadata": {},
   "outputs": [
    {
     "name": "stdout",
     "output_type": "stream",
     "text": [
      "q1 1.4\n",
      "q3 7.3\n",
      "Upper Bound 16.150000000000002\n",
      "Lower Bound -7.450000000000001\n",
      "IQR 5.9\n"
     ]
    },
    {
     "data": {
      "image/png": "[encoded data removed]",
      "text/plain": [
       "<Figure size 1152x576 with 4 Axes>"
      ]
     },
     "metadata": {},
     "output_type": "display_data"
    }
   ],
   "source": [
    "remove_outliers_IQR(df,'ISI')\n",
    "create_comparison_plot(df,df1,\"ISI\")"
   ]
  },
  {
   "cell_type": "code",
   "execution_count": 39,
   "id": "dc9dd1db",
   "metadata": {},
   "outputs": [
    {
     "name": "stdout",
     "output_type": "stream",
     "text": [
      "q1 6.0\n",
      "q3 22.525\n",
      "Upper Bound 47.3125\n",
      "Lower Bound -18.787499999999998\n",
      "IQR 16.525\n"
     ]
    },
    {
     "data": {
      "image/png": "[encoded data removed]",
      "text/plain": [
       "<Figure size 1152x576 with 4 Axes>"
      ]
     },
     "metadata": {},
     "output_type": "display_data"
    }
   ],
   "source": [
    "remove_outliers_IQR(df,'BUI')\n",
    "create_comparison_plot(df,df1,\"BUI\")"
   ]
  },
  {
   "cell_type": "code",
   "execution_count": 40,
   "id": "5414412a",
   "metadata": {},
   "outputs": [
    {
     "name": "stdout",
     "output_type": "stream",
     "text": [
      "q1 0.7\n",
      "q3 11.375\n",
      "Upper Bound 27.387500000000003\n",
      "Lower Bound -15.312500000000004\n",
      "IQR 10.675\n"
     ]
    },
    {
     "data": {
      "image/png": "[encoded data removed]",
      "text/plain": [
       "<Figure size 1152x576 with 4 Axes>"
      ]
     },
     "metadata": {},
     "output_type": "display_data"
    }
   ],
   "source": [
    "remove_outliers_IQR(df,'FWI')\n",
    "create_comparison_plot(df,df1,\"FWI\")"
   ]
  },
  {
   "cell_type": "markdown",
   "id": "d4250a38",
   "metadata": {},
   "source": [
    "**Regression Analysis**"
   ]
  },
  {
   "cell_type": "code",
   "execution_count": 41,
   "id": "5e261444",
   "metadata": {},
   "outputs": [
    {
     "data": {
      "text/plain": [
       "1    138\n",
       "0    106\n",
       "Name: Classes, dtype: int64"
      ]
     },
     "execution_count": 41,
     "metadata": {},
     "output_type": "execute_result"
    }
   ],
   "source": [
    "# Check counts\n",
    "df1.Classes.value_counts()"
   ]
  },
  {
   "cell_type": "code",
   "execution_count": 43,
   "id": "877ffd0d",
   "metadata": {},
   "outputs": [
    {
     "data": {
      "text/html": [
       "<div>\n",
       "<style scoped>\n",
       "    .dataframe tbody tr th:only-of-type {\n",
       "        vertical-align: middle;\n",
       "    }\n",
       "\n",
       "    .dataframe tbody tr th {\n",
       "        vertical-align: top;\n",
       "    }\n",
       "\n",
       "    .dataframe thead th {\n",
       "        text-align: right;\n",
       "    }\n",
       "</style>\n",
       "<table border=\"1\" class=\"dataframe\">\n",
       "  <thead>\n",
       "    <tr style=\"text-align: right;\">\n",
       "      <th></th>\n",
       "      <th>Temperature</th>\n",
       "      <th>RH</th>\n",
       "      <th>Ws</th>\n",
       "      <th>Rain</th>\n",
       "      <th>FFMC</th>\n",
       "      <th>DMC</th>\n",
       "      <th>DC</th>\n",
       "      <th>ISI</th>\n",
       "      <th>BUI</th>\n",
       "      <th>FWI</th>\n",
       "      <th>Classes</th>\n",
       "      <th>Region</th>\n",
       "    </tr>\n",
       "  </thead>\n",
       "  <tbody>\n",
       "    <tr>\n",
       "      <th>0</th>\n",
       "      <td>29.0</td>\n",
       "      <td>57</td>\n",
       "      <td>18.0</td>\n",
       "      <td>0.00</td>\n",
       "      <td>65.7000</td>\n",
       "      <td>3.4</td>\n",
       "      <td>7.6</td>\n",
       "      <td>1.3</td>\n",
       "      <td>3.4</td>\n",
       "      <td>0.5</td>\n",
       "      <td>0</td>\n",
       "      <td>0</td>\n",
       "    </tr>\n",
       "    <tr>\n",
       "      <th>1</th>\n",
       "      <td>29.0</td>\n",
       "      <td>61</td>\n",
       "      <td>13.0</td>\n",
       "      <td>1.25</td>\n",
       "      <td>64.4000</td>\n",
       "      <td>4.1</td>\n",
       "      <td>7.6</td>\n",
       "      <td>1.0</td>\n",
       "      <td>3.9</td>\n",
       "      <td>0.4</td>\n",
       "      <td>0</td>\n",
       "      <td>0</td>\n",
       "    </tr>\n",
       "    <tr>\n",
       "      <th>2</th>\n",
       "      <td>26.0</td>\n",
       "      <td>82</td>\n",
       "      <td>21.5</td>\n",
       "      <td>1.25</td>\n",
       "      <td>47.7375</td>\n",
       "      <td>2.5</td>\n",
       "      <td>7.1</td>\n",
       "      <td>0.3</td>\n",
       "      <td>2.7</td>\n",
       "      <td>0.1</td>\n",
       "      <td>0</td>\n",
       "      <td>0</td>\n",
       "    </tr>\n",
       "    <tr>\n",
       "      <th>3</th>\n",
       "      <td>25.0</td>\n",
       "      <td>89</td>\n",
       "      <td>13.0</td>\n",
       "      <td>1.25</td>\n",
       "      <td>47.7375</td>\n",
       "      <td>1.3</td>\n",
       "      <td>6.9</td>\n",
       "      <td>0.0</td>\n",
       "      <td>1.7</td>\n",
       "      <td>0.0</td>\n",
       "      <td>0</td>\n",
       "      <td>0</td>\n",
       "    </tr>\n",
       "    <tr>\n",
       "      <th>4</th>\n",
       "      <td>27.0</td>\n",
       "      <td>77</td>\n",
       "      <td>16.0</td>\n",
       "      <td>0.00</td>\n",
       "      <td>64.8000</td>\n",
       "      <td>3.0</td>\n",
       "      <td>14.2</td>\n",
       "      <td>1.2</td>\n",
       "      <td>3.9</td>\n",
       "      <td>0.5</td>\n",
       "      <td>0</td>\n",
       "      <td>0</td>\n",
       "    </tr>\n",
       "    <tr>\n",
       "      <th>...</th>\n",
       "      <td>...</td>\n",
       "      <td>...</td>\n",
       "      <td>...</td>\n",
       "      <td>...</td>\n",
       "      <td>...</td>\n",
       "      <td>...</td>\n",
       "      <td>...</td>\n",
       "      <td>...</td>\n",
       "      <td>...</td>\n",
       "      <td>...</td>\n",
       "      <td>...</td>\n",
       "      <td>...</td>\n",
       "    </tr>\n",
       "    <tr>\n",
       "      <th>239</th>\n",
       "      <td>30.0</td>\n",
       "      <td>65</td>\n",
       "      <td>14.0</td>\n",
       "      <td>0.00</td>\n",
       "      <td>85.4000</td>\n",
       "      <td>16.0</td>\n",
       "      <td>44.5</td>\n",
       "      <td>4.5</td>\n",
       "      <td>16.9</td>\n",
       "      <td>6.5</td>\n",
       "      <td>1</td>\n",
       "      <td>1</td>\n",
       "    </tr>\n",
       "    <tr>\n",
       "      <th>240</th>\n",
       "      <td>28.0</td>\n",
       "      <td>87</td>\n",
       "      <td>15.0</td>\n",
       "      <td>1.25</td>\n",
       "      <td>47.7375</td>\n",
       "      <td>6.5</td>\n",
       "      <td>8.0</td>\n",
       "      <td>0.1</td>\n",
       "      <td>6.2</td>\n",
       "      <td>0.0</td>\n",
       "      <td>0</td>\n",
       "      <td>1</td>\n",
       "    </tr>\n",
       "    <tr>\n",
       "      <th>241</th>\n",
       "      <td>27.0</td>\n",
       "      <td>87</td>\n",
       "      <td>21.5</td>\n",
       "      <td>0.50</td>\n",
       "      <td>47.7375</td>\n",
       "      <td>3.5</td>\n",
       "      <td>7.9</td>\n",
       "      <td>0.4</td>\n",
       "      <td>3.4</td>\n",
       "      <td>0.2</td>\n",
       "      <td>0</td>\n",
       "      <td>1</td>\n",
       "    </tr>\n",
       "    <tr>\n",
       "      <th>242</th>\n",
       "      <td>24.0</td>\n",
       "      <td>54</td>\n",
       "      <td>18.0</td>\n",
       "      <td>0.10</td>\n",
       "      <td>79.7000</td>\n",
       "      <td>4.3</td>\n",
       "      <td>15.2</td>\n",
       "      <td>1.7</td>\n",
       "      <td>5.1</td>\n",
       "      <td>0.7</td>\n",
       "      <td>0</td>\n",
       "      <td>1</td>\n",
       "    </tr>\n",
       "    <tr>\n",
       "      <th>243</th>\n",
       "      <td>24.0</td>\n",
       "      <td>64</td>\n",
       "      <td>15.0</td>\n",
       "      <td>0.20</td>\n",
       "      <td>67.3000</td>\n",
       "      <td>3.8</td>\n",
       "      <td>16.5</td>\n",
       "      <td>1.2</td>\n",
       "      <td>4.8</td>\n",
       "      <td>0.5</td>\n",
       "      <td>0</td>\n",
       "      <td>1</td>\n",
       "    </tr>\n",
       "  </tbody>\n",
       "</table>\n",
       "<p>244 rows × 12 columns</p>\n",
       "</div>"
      ],
      "text/plain": [
       "     Temperature  RH    Ws  Rain     FFMC   DMC    DC  ISI   BUI  FWI  \\\n",
       "0           29.0  57  18.0  0.00  65.7000   3.4   7.6  1.3   3.4  0.5   \n",
       "1           29.0  61  13.0  1.25  64.4000   4.1   7.6  1.0   3.9  0.4   \n",
       "2           26.0  82  21.5  1.25  47.7375   2.5   7.1  0.3   2.7  0.1   \n",
       "3           25.0  89  13.0  1.25  47.7375   1.3   6.9  0.0   1.7  0.0   \n",
       "4           27.0  77  16.0  0.00  64.8000   3.0  14.2  1.2   3.9  0.5   \n",
       "..           ...  ..   ...   ...      ...   ...   ...  ...   ...  ...   \n",
       "239         30.0  65  14.0  0.00  85.4000  16.0  44.5  4.5  16.9  6.5   \n",
       "240         28.0  87  15.0  1.25  47.7375   6.5   8.0  0.1   6.2  0.0   \n",
       "241         27.0  87  21.5  0.50  47.7375   3.5   7.9  0.4   3.4  0.2   \n",
       "242         24.0  54  18.0  0.10  79.7000   4.3  15.2  1.7   5.1  0.7   \n",
       "243         24.0  64  15.0  0.20  67.3000   3.8  16.5  1.2   4.8  0.5   \n",
       "\n",
       "     Classes Region  \n",
       "0          0      0  \n",
       "1          0      0  \n",
       "2          0      0  \n",
       "3          0      0  \n",
       "4          0      0  \n",
       "..       ...    ...  \n",
       "239        1      1  \n",
       "240        0      1  \n",
       "241        0      1  \n",
       "242        0      1  \n",
       "243        0      1  \n",
       "\n",
       "[244 rows x 12 columns]"
      ]
     },
     "execution_count": 43,
     "metadata": {},
     "output_type": "execute_result"
    }
   ],
   "source": [
    "df1"
   ]
  },
  {
   "cell_type": "markdown",
   "id": "48e4da9a",
   "metadata": {},
   "source": [
    "**Here Classes is the dependent variable that means Fire depends upon rest of the factors so Classes is our target feature**"
   ]
  },
  {
   "cell_type": "markdown",
   "id": "9df4db73",
   "metadata": {},
   "source": [
    "                    ***Lets create Independent and Dependent feature and build our model***"
   ]
  },
  {
   "cell_type": "code",
   "execution_count": 44,
   "id": "c0ae795f",
   "metadata": {},
   "outputs": [],
   "source": [
    "#X= Independent feature & Y= Dependent feature: \n",
    "X = df1.drop(columns = ['Classes'])\n",
    "Y = df1['Classes']"
   ]
  },
  {
   "cell_type": "code",
   "execution_count": 45,
   "id": "4868c043",
   "metadata": {},
   "outputs": [
    {
     "data": {
      "text/html": [
       "<div>\n",
       "<style scoped>\n",
       "    .dataframe tbody tr th:only-of-type {\n",
       "        vertical-align: middle;\n",
       "    }\n",
       "\n",
       "    .dataframe tbody tr th {\n",
       "        vertical-align: top;\n",
       "    }\n",
       "\n",
       "    .dataframe thead th {\n",
       "        text-align: right;\n",
       "    }\n",
       "</style>\n",
       "<table border=\"1\" class=\"dataframe\">\n",
       "  <thead>\n",
       "    <tr style=\"text-align: right;\">\n",
       "      <th></th>\n",
       "      <th>Temperature</th>\n",
       "      <th>RH</th>\n",
       "      <th>Ws</th>\n",
       "      <th>Rain</th>\n",
       "      <th>FFMC</th>\n",
       "      <th>DMC</th>\n",
       "      <th>DC</th>\n",
       "      <th>ISI</th>\n",
       "      <th>BUI</th>\n",
       "      <th>FWI</th>\n",
       "      <th>Region</th>\n",
       "    </tr>\n",
       "  </thead>\n",
       "  <tbody>\n",
       "    <tr>\n",
       "      <th>0</th>\n",
       "      <td>29.0</td>\n",
       "      <td>57</td>\n",
       "      <td>18.0</td>\n",
       "      <td>0.00</td>\n",
       "      <td>65.7000</td>\n",
       "      <td>3.4</td>\n",
       "      <td>7.6</td>\n",
       "      <td>1.3</td>\n",
       "      <td>3.4</td>\n",
       "      <td>0.5</td>\n",
       "      <td>0</td>\n",
       "    </tr>\n",
       "    <tr>\n",
       "      <th>1</th>\n",
       "      <td>29.0</td>\n",
       "      <td>61</td>\n",
       "      <td>13.0</td>\n",
       "      <td>1.25</td>\n",
       "      <td>64.4000</td>\n",
       "      <td>4.1</td>\n",
       "      <td>7.6</td>\n",
       "      <td>1.0</td>\n",
       "      <td>3.9</td>\n",
       "      <td>0.4</td>\n",
       "      <td>0</td>\n",
       "    </tr>\n",
       "    <tr>\n",
       "      <th>2</th>\n",
       "      <td>26.0</td>\n",
       "      <td>82</td>\n",
       "      <td>21.5</td>\n",
       "      <td>1.25</td>\n",
       "      <td>47.7375</td>\n",
       "      <td>2.5</td>\n",
       "      <td>7.1</td>\n",
       "      <td>0.3</td>\n",
       "      <td>2.7</td>\n",
       "      <td>0.1</td>\n",
       "      <td>0</td>\n",
       "    </tr>\n",
       "    <tr>\n",
       "      <th>3</th>\n",
       "      <td>25.0</td>\n",
       "      <td>89</td>\n",
       "      <td>13.0</td>\n",
       "      <td>1.25</td>\n",
       "      <td>47.7375</td>\n",
       "      <td>1.3</td>\n",
       "      <td>6.9</td>\n",
       "      <td>0.0</td>\n",
       "      <td>1.7</td>\n",
       "      <td>0.0</td>\n",
       "      <td>0</td>\n",
       "    </tr>\n",
       "    <tr>\n",
       "      <th>4</th>\n",
       "      <td>27.0</td>\n",
       "      <td>77</td>\n",
       "      <td>16.0</td>\n",
       "      <td>0.00</td>\n",
       "      <td>64.8000</td>\n",
       "      <td>3.0</td>\n",
       "      <td>14.2</td>\n",
       "      <td>1.2</td>\n",
       "      <td>3.9</td>\n",
       "      <td>0.5</td>\n",
       "      <td>0</td>\n",
       "    </tr>\n",
       "  </tbody>\n",
       "</table>\n",
       "</div>"
      ],
      "text/plain": [
       "   Temperature  RH    Ws  Rain     FFMC  DMC    DC  ISI  BUI  FWI Region\n",
       "0         29.0  57  18.0  0.00  65.7000  3.4   7.6  1.3  3.4  0.5      0\n",
       "1         29.0  61  13.0  1.25  64.4000  4.1   7.6  1.0  3.9  0.4      0\n",
       "2         26.0  82  21.5  1.25  47.7375  2.5   7.1  0.3  2.7  0.1      0\n",
       "3         25.0  89  13.0  1.25  47.7375  1.3   6.9  0.0  1.7  0.0      0\n",
       "4         27.0  77  16.0  0.00  64.8000  3.0  14.2  1.2  3.9  0.5      0"
      ]
     },
     "execution_count": 45,
     "metadata": {},
     "output_type": "execute_result"
    }
   ],
   "source": [
    "X.head()"
   ]
  },
  {
   "cell_type": "code",
   "execution_count": 47,
   "id": "fca7e076",
   "metadata": {},
   "outputs": [
    {
     "data": {
      "text/plain": [
       "0    0\n",
       "1    0\n",
       "2    0\n",
       "3    0\n",
       "4    0\n",
       "5    1\n",
       "6    1\n",
       "7    1\n",
       "8    0\n",
       "9    0\n",
       "Name: Classes, dtype: int64"
      ]
     },
     "execution_count": 47,
     "metadata": {},
     "output_type": "execute_result"
    }
   ],
   "source": [
    "Y.head(10)"
   ]
  },
  {
   "cell_type": "markdown",
   "id": "feda3400",
   "metadata": {},
   "source": [
    "**Lets train our model with Train-Test-Split**"
   ]
  },
  {
   "cell_type": "code",
   "execution_count": 59,
   "id": "1822e979",
   "metadata": {},
   "outputs": [
    {
     "data": {
      "text/plain": [
       "(244, 12)"
      ]
     },
     "execution_count": 59,
     "metadata": {},
     "output_type": "execute_result"
    }
   ],
   "source": [
    "df.shape"
   ]
  },
  {
   "cell_type": "code",
   "execution_count": 49,
   "id": "86cf0781",
   "metadata": {},
   "outputs": [
    {
     "data": {
      "text/plain": [
       "(244, 12)"
      ]
     },
     "execution_count": 49,
     "metadata": {},
     "output_type": "execute_result"
    }
   ],
   "source": [
    "df1.shape"
   ]
  },
  {
   "cell_type": "code",
   "execution_count": 60,
   "id": "1d7bd3c9",
   "metadata": {},
   "outputs": [],
   "source": [
    "from sklearn.model_selection import train_test_split #test data is used to validate data\n",
    "X_train,X_test,Y_train,Y_test=train_test_split(\n",
    "X,Y,test_size=0.25,random_state=0)"
   ]
  },
  {
   "cell_type": "code",
   "execution_count": 61,
   "id": "866c5387",
   "metadata": {},
   "outputs": [
    {
     "data": {
      "text/plain": [
       "(183, 11)"
      ]
     },
     "execution_count": 61,
     "metadata": {},
     "output_type": "execute_result"
    }
   ],
   "source": [
    "X_train.shape"
   ]
  },
  {
   "cell_type": "code",
   "execution_count": 62,
   "id": "3fb74f7d",
   "metadata": {},
   "outputs": [
    {
     "data": {
      "text/plain": [
       "(183,)"
      ]
     },
     "execution_count": 62,
     "metadata": {},
     "output_type": "execute_result"
    }
   ],
   "source": [
    "Y_train.shape"
   ]
  },
  {
   "cell_type": "code",
   "execution_count": 63,
   "id": "57bc6050",
   "metadata": {},
   "outputs": [
    {
     "data": {
      "text/plain": [
       "(61,)"
      ]
     },
     "execution_count": 63,
     "metadata": {},
     "output_type": "execute_result"
    }
   ],
   "source": [
    "Y_test.shape"
   ]
  },
  {
   "cell_type": "code",
   "execution_count": 64,
   "id": "aa4d8df0",
   "metadata": {},
   "outputs": [
    {
     "data": {
      "text/plain": [
       "(61, 11)"
      ]
     },
     "execution_count": 64,
     "metadata": {},
     "output_type": "execute_result"
    }
   ],
   "source": [
    "X_test.shape"
   ]
  },
  {
   "cell_type": "markdown",
   "id": "f9b6f614",
   "metadata": {},
   "source": [
    "**Feature Scaling**"
   ]
  },
  {
   "cell_type": "code",
   "execution_count": 65,
   "id": "c5a828b4",
   "metadata": {},
   "outputs": [],
   "source": [
    "from sklearn.preprocessing import StandardScaler\n",
    "scaler = StandardScaler()\n",
    "X_train = scaler.fit_transform(X_train)\n",
    "X_test = scaler.transform(X_test)"
   ]
  },
  {
   "cell_type": "code",
   "execution_count": 66,
   "id": "e0d591dd",
   "metadata": {},
   "outputs": [
    {
     "data": {
      "text/plain": [
       "array([[ 1.06691859, -0.72230352,  0.19065425, ...,  1.19486681,\n",
       "         1.31732882,  1.00547949],\n",
       "       [ 0.78105314, -0.85704515,  0.9836026 , ...,  2.32152949,\n",
       "         2.66567262, -0.99455037],\n",
       "       [ 0.78105314, -1.26127006, -0.20581993, ..., -0.02273296,\n",
       "        -0.15298413,  1.00547949],\n",
       "       ...,\n",
       "       [-0.36240866, -0.45282025, -1.79171664, ..., -0.82680829,\n",
       "        -0.76784227, -0.99455037],\n",
       "       [-0.36240866,  0.4903712 , -0.60229411, ..., -0.21417947,\n",
       "        -0.19308357, -0.99455037],\n",
       "       [ 1.06691859, -2.13709068,  0.9836026 , ...,  1.72325916,\n",
       "         2.66567262,  1.00547949]])"
      ]
     },
     "execution_count": 66,
     "metadata": {},
     "output_type": "execute_result"
    }
   ],
   "source": [
    "X_train"
   ]
  },
  {
   "cell_type": "code",
   "execution_count": 67,
   "id": "45abc183",
   "metadata": {},
   "outputs": [
    {
     "data": {
      "text/plain": [
       "array([[ 4.95187691e-01,  5.57742013e-01, -9.98768284e-01,\n",
       "        -6.75621127e-01,  4.81067597e-01, -5.92377064e-01,\n",
       "        -6.79378079e-01, -2.28518707e-01, -6.73651082e-01,\n",
       "        -4.73779678e-01, -9.94550368e-01],\n",
       "       [ 7.81053141e-01,  1.53517108e-01, -6.02294106e-01,\n",
       "        -2.65992570e-02, -1.60773405e-01, -8.10403658e-01,\n",
       "        -9.01750261e-01, -7.71621607e-01, -8.80413308e-01,\n",
       "        -8.88140600e-01, -9.94550368e-01],\n",
       "       [ 1.06691859e+00, -5.20191065e-01,  1.38007678e+00,\n",
       "        -6.75621127e-01,  8.01988097e-01,  1.83797610e-01,\n",
       "         1.10867580e+00,  1.18827147e+00,  5.28632970e-01,\n",
       "         1.04999919e+00, -9.94550368e-01],\n",
       "       [-1.22000501e+00,  1.56830427e+00,  9.83602605e-01,\n",
       "        -6.75621127e-01,  3.89376025e-01, -1.30160685e-01,\n",
       "        -9.99242683e-03, -1.10452859e-01, -7.63379862e-02,\n",
       "        -1.52984126e-01, -9.94550368e-01],\n",
       "       [-3.62408657e-01,  7.59854465e-01, -6.02294106e-01,\n",
       "        -6.75621127e-01,  4.19939882e-01, -5.83656001e-01,\n",
       "        -5.56846468e-01, -2.75745046e-01, -6.04730340e-01,\n",
       "        -4.73779678e-01,  1.00547949e+00],\n",
       "       [-2.07760135e+00,  1.02933773e+00,  5.87128427e-01,\n",
       "         2.02863666e+00, -2.36614673e+00, -1.19413046e+00,\n",
       "        -9.58477859e-01, -1.12581915e+00, -1.16375414e+00,\n",
       "        -9.81705969e-01, -9.94550368e-01],\n",
       "       [ 1.06691859e+00,  1.87754737e-02,  9.83602605e-01,\n",
       "        -2.65992570e-02,  1.14301310e-01, -2.87139833e-01,\n",
       "         9.22609278e-01, -5.11876742e-01,  4.61877770e-02,\n",
       "        -4.33680234e-01, -9.94550368e-01],\n",
       "       [ 1.06691859e+00, -3.18078613e-01,  1.90654249e-01,\n",
       "        -6.75621127e-01,  7.79065204e-01,  7.68108882e-01,\n",
       "         1.66997678e-01,  7.63234416e-01,  5.20975110e-01,\n",
       "         7.69303085e-01,  1.00547949e+00],\n",
       "       [-6.48274107e-01, -4.52820248e-01, -6.02294106e-01,\n",
       "         2.02863666e+00, -6.26872227e-01, -3.48187279e-01,\n",
       "        -9.22172196e-01, -8.66074285e-01, -4.97520297e-01,\n",
       "        -8.88140600e-01,  1.00547949e+00],\n",
       "       [ 4.95187691e-01, -1.15966161e-01,  1.90654249e-01,\n",
       "        -6.75621127e-01,  7.17937490e-01,  3.93103140e-01,\n",
       "        -5.76436088e-02,  5.74329059e-01,  1.91687121e-01,\n",
       "         4.61874015e-01,  1.00547949e+00],\n",
       "       [ 7.81053141e-01,  1.53517108e-01, -2.05819928e-01,\n",
       "        -6.75621127e-01,  6.33886883e-01,  3.49497821e-01,\n",
       "         8.02346771e-01,  2.20131515e-01,  5.66922271e-01,\n",
       "         3.68308645e-01, -9.94550368e-01],\n",
       "       [-6.48274107e-01,  2.88258743e-01, -6.02294106e-01,\n",
       "        -6.75621127e-01, -4.61589401e-02, -1.02843025e+00,\n",
       "        -7.72411339e-01, -7.24395268e-01, -9.79965490e-01,\n",
       "        -8.88140600e-01, -9.94550368e-01],\n",
       "       [ 1.35278404e+00, -1.66549496e+00, -9.98768284e-01,\n",
       "         6.22422613e-01,  5.72759168e-01,  2.53566120e-01,\n",
       "        -2.95899519e-01, -3.96133501e-02,  6.15034975e-02,\n",
       "        -3.26857945e-02,  1.00547949e+00],\n",
       "       [ 2.21038039e+00, -1.32864087e+00, -2.18819082e+00,\n",
       "        -4.59280504e-01,  1.01593510e+00,  6.63456117e-01,\n",
       "         3.48525990e-01,  1.07020562e+00,  5.51606550e-01,\n",
       "         9.83166786e-01,  1.00547949e+00],\n",
       "       [-6.48274107e-01,  8.27225282e-01, -6.02294106e-01,\n",
       "        -6.75621127e-01,  3.78916672e-02, -7.40635148e-01,\n",
       "        -7.51989404e-01, -6.77168929e-01, -7.96176845e-01,\n",
       "        -8.34674674e-01,  1.00547949e+00],\n",
       "       [-6.48274107e-01,  1.29882100e+00,  1.38007678e+00,\n",
       "         1.89741366e-01, -1.37568673e+00, -8.54008977e-01,\n",
       "        -7.42912988e-01, -9.13300625e-01, -8.49781867e-01,\n",
       "        -9.28240044e-01, -9.94550368e-01],\n",
       "       [ 7.81053141e-01,  4.90371195e-01,  1.90654249e-01,\n",
       "        -6.75621127e-01,  5.03990490e-01, -4.35397917e-01,\n",
       "        -7.42912988e-01, -1.60001805e-02, -5.43467459e-01,\n",
       "        -2.86648940e-01,  1.00547949e+00],\n",
       "       [-9.34139556e-01, -2.50707796e-01, -6.02294106e-01,\n",
       "        -6.75621127e-01,  8.09629062e-01, -2.17371323e-01,\n",
       "        -1.91520739e-01,  6.68781737e-01, -2.14179470e-01,\n",
       "         3.01476239e-01, -9.94550368e-01],\n",
       "       [-2.36346680e+00,  2.20887926e-01, -2.05819928e-01,\n",
       "        -2.42939880e-01, -8.71383085e-01, -9.76103870e-01,\n",
       "        -7.54258508e-01, -8.89687455e-01, -9.34018329e-01,\n",
       "        -9.28240044e-01,  1.00547949e+00],\n",
       "       [ 4.95187691e-01,  1.53517108e-01, -9.98768284e-01,\n",
       "         2.02863666e+00, -6.87999941e-01, -6.79587702e-01,\n",
       "        -9.06288469e-01, -8.89687455e-01, -7.73203265e-01,\n",
       "        -9.14873562e-01,  1.00547949e+00],\n",
       "       [ 7.81053141e-01, -3.18078613e-01, -6.02294106e-01,\n",
       "         1.89741366e-01,  3.78916672e-02,  1.91928930e+00,\n",
       "         2.28548981e+00, -6.77168929e-01,  1.04170960e+00,\n",
       "        -1.79717089e-01,  1.00547949e+00],\n",
       "       [-2.07760135e+00,  1.70304591e+00,  2.17302514e+00,\n",
       "         2.02863666e+00, -2.36614673e+00, -1.19413046e+00,\n",
       "        -9.58477859e-01, -1.14943232e+00, -1.16375414e+00,\n",
       "        -9.95072450e-01, -9.94550368e-01],\n",
       "       [-3.62408657e-01,  5.57742013e-01,  5.87128427e-01,\n",
       "         2.02863666e+00, -1.26107226e+00, -9.67382806e-01,\n",
       "        -9.47132339e-01, -9.13300625e-01, -1.01059693e+00,\n",
       "        -9.41606525e-01,  1.00547949e+00],\n",
       "       [-2.07760135e+00,  1.83778754e+00, -9.98768284e-01,\n",
       "        -2.42939880e-01, -1.97168194e+00, -6.18540256e-01,\n",
       "        -2.48248337e-01, -1.07859281e+00, -4.97520297e-01,\n",
       "        -9.54973006e-01, -9.94550368e-01],\n",
       "       [ 2.78211129e+00, -2.47394477e+00, -2.38642791e+00,\n",
       "        -6.75621127e-01,  1.32157367e+00,  1.33497803e+00,\n",
       "         6.04934731e-01,  2.53422213e+00,  1.02639388e+00,\n",
       "         2.21288307e+00,  1.00547949e+00],\n",
       "       [ 1.06691859e+00,  6.92483648e-01, -2.05819928e-01,\n",
       "        -6.75621127e-01,  5.57477240e-01,  1.91056823e+00,\n",
       "         1.52846002e+00,  3.12261587e-02,  1.86110065e+00,\n",
       "         6.35638272e-01,  1.00547949e+00],\n",
       "       [-3.62408657e-01,  8.61462911e-02, -2.05819928e-01,\n",
       "        -6.75621127e-01,  3.51171204e-01, -8.01682594e-01,\n",
       "        -7.27029261e-01, -2.75745046e-01, -8.11492566e-01,\n",
       "        -5.67345048e-01,  1.00547949e+00],\n",
       "       [-6.48274107e-01,  2.20887926e-01, -6.02294106e-01,\n",
       "        -6.75621127e-01,  5.31735958e-02, -8.54008977e-01,\n",
       "        -7.79218650e-01, -6.53555759e-01, -8.72755447e-01,\n",
       "        -8.61407637e-01,  1.00547949e+00],\n",
       "       [-3.62408657e-01,  4.23000378e-01, -6.02294106e-01,\n",
       "        -6.75621127e-01,  2.97684453e-01, -8.01682594e-01,\n",
       "        -6.24919585e-01, -4.41037233e-01, -7.65545404e-01,\n",
       "        -6.60910417e-01, -9.94550368e-01],\n",
       "       [-7.65432078e-02,  8.61462911e-02,  9.83602605e-01,\n",
       "        -4.59280504e-01,  2.05992882e-01, -5.92377064e-01,\n",
       "        -4.62980893e-02, -3.93810894e-01, -4.20941695e-01,\n",
       "        -4.87146160e-01, -9.94550368e-01],\n",
       "       [ 2.09322242e-01,  3.55629561e-01, -6.02294106e-01,\n",
       "        -6.75621127e-01,  6.33886883e-01,  5.84966543e-01,\n",
       "         1.02018075e+00,  1.72905176e-01,  7.81342357e-01,\n",
       "         4.21774571e-01, -9.94550368e-01],\n",
       "       [-9.34139556e-01,  1.29882100e+00, -6.02294106e-01,\n",
       "         2.02863666e+00, -2.29260244e+00, -1.11564089e+00,\n",
       "        -9.56208755e-01, -1.10220598e+00, -1.10249125e+00,\n",
       "        -9.81705969e-01,  1.00547949e+00],\n",
       "       [-1.50587046e+00,  1.56830427e+00,  2.17302514e+00,\n",
       "         1.92046635e+00, -2.19326991e+00, -7.23193021e-01,\n",
       "        -7.42912988e-01, -1.05497964e+00, -7.88518985e-01,\n",
       "        -9.68339487e-01, -9.94550368e-01],\n",
       "       [-7.65432078e-02,  1.36619182e+00,  5.87128427e-01,\n",
       "        -6.75621127e-01,  4.50503739e-01,  5.32640160e-01,\n",
       "        -1.68829700e-01, -6.32265196e-02,  2.98897164e-01,\n",
       "         3.41466121e-02,  1.00547949e+00],\n",
       "       [-1.22000501e+00,  1.02933773e+00,  2.17302514e+00,\n",
       "        -6.75621127e-01, -4.66411977e-01, -6.97029829e-01,\n",
       "        -5.50039156e-01, -1.00775330e+00, -6.65993222e-01,\n",
       "        -9.41606525e-01, -9.94550368e-01],\n",
       "       [ 1.63864949e+00, -1.19389924e+00, -9.98768284e-01,\n",
       "         4.06081990e-01,  4.81067597e-01, -1.73766004e-01,\n",
       "        -3.25397870e-01, -2.04905537e-01, -2.52468771e-01,\n",
       "        -3.00015421e-01,  1.00547949e+00],\n",
       "       [ 2.09322242e-01,  4.90371195e-01,  1.38007678e+00,\n",
       "        -6.75621127e-01,  5.26913383e-01, -2.17371323e-01,\n",
       "         1.35309270e-03,  2.43744685e-01, -1.22285147e-01,\n",
       "         7.42460561e-02, -9.94550368e-01],\n",
       "       [-1.22000501e+00,  1.97252918e+00, -2.05819928e-01,\n",
       "        -6.75621127e-01, -9.09587906e-01, -6.79587702e-01,\n",
       "        -7.95102378e-01, -8.89687455e-01, -7.57887544e-01,\n",
       "        -9.14873562e-01,  1.00547949e+00],\n",
       "       [ 4.95187691e-01, -7.89674335e-01, -2.05819928e-01,\n",
       "        -6.75621127e-01,  8.01988097e-01,  8.55319519e-01,\n",
       "         2.28548981e+00,  7.39621246e-01,  1.43226047e+00,\n",
       "         1.14356456e+00,  1.00547949e+00],\n",
       "       [-9.34139556e-01,  8.94596100e-01, -2.05819928e-01,\n",
       "         1.70412573e+00, -1.46737830e+00, -8.97614296e-01,\n",
       "        -9.42594132e-01, -9.84140133e-01, -9.49334049e-01,\n",
       "        -9.54973006e-01,  1.00547949e+00],\n",
       "       [-6.48274107e-01,  1.29882100e+00, -2.05819928e-01,\n",
       "        -6.75621127e-01,  3.35889275e-01, -6.18540256e-01,\n",
       "        -3.45819805e-01, -3.46584555e-01, -5.35809598e-01,\n",
       "        -5.00512641e-01,  1.00547949e+00],\n",
       "       [-3.62408657e-01,  3.55629561e-01, -1.79171664e+00,\n",
       "        -6.75621127e-01,  5.34554347e-01, -5.83656001e-01,\n",
       "        -5.63653780e-01, -2.28518707e-01, -6.12388200e-01,\n",
       "        -4.47046716e-01, -9.94550368e-01],\n",
       "       [ 1.06691859e+00, -1.86760741e+00, -9.98768284e-01,\n",
       "        -4.59280504e-01,  9.08961598e-01,  9.42530157e-01,\n",
       "         6.36702186e-01,  9.52139772e-01,  8.57920959e-01,\n",
       "         1.06336567e+00,  1.00547949e+00],\n",
       "       [ 4.95187691e-01, -1.83336978e-01,  9.83602605e-01,\n",
       "        -6.75621127e-01,  7.10296526e-01, -1.21439621e-01,\n",
       "        -2.93630415e-01,  7.16008077e-01, -2.21837330e-01,\n",
       "         3.28209201e-01,  1.00547949e+00],\n",
       "       [ 1.06691859e+00, -4.52820248e-01, -6.02294106e-01,\n",
       "        -6.75621127e-01,  9.39525455e-01,  2.45781498e+00,\n",
       "         2.28548981e+00,  1.18827147e+00,  2.32152949e+00,\n",
       "         2.49357918e+00,  1.00547949e+00],\n",
       "       [-3.62408657e-01, -3.85449431e-01,  1.90654249e-01,\n",
       "        -4.59280504e-01,  9.13784173e-02, -9.15056423e-01,\n",
       "        -7.65604027e-01, -5.82716250e-01, -8.95729028e-01,\n",
       "        -8.07941712e-01, -9.94550368e-01],\n",
       "       [-3.62408657e-01, -5.87561883e-01, -6.02294106e-01,\n",
       "        -6.75621127e-01,  6.87373633e-01, -7.49356212e-01,\n",
       "        -5.77268403e-01,  2.90971024e-01, -7.11940383e-01,\n",
       "        -2.06450052e-01, -9.94550368e-01],\n",
       "       [-9.34139556e-01,  1.90515836e+00, -9.98768284e-01,\n",
       "         8.38763236e-01, -2.36614673e+00, -1.15924621e+00,\n",
       "        -9.56208755e-01, -1.17304549e+00, -1.13312269e+00,\n",
       "        -9.95072450e-01, -9.94550368e-01],\n",
       "       [ 7.81053141e-01,  1.53517108e-01, -9.98768284e-01,\n",
       "        -6.75621127e-01,  7.79065204e-01,  5.84966543e-01,\n",
       "         6.18549355e-01,  5.03489550e-01,  6.51158733e-01,\n",
       "         6.22271791e-01, -9.94550368e-01],\n",
       "       [-6.48274107e-01,  8.27225282e-01, -2.05819928e-01,\n",
       "        -6.75621127e-01,  6.03323026e-01, -2.52255578e-01,\n",
       "        -2.59593856e-01,  1.49292007e-01, -2.67784491e-01,\n",
       "        -4.60522758e-02, -9.94550368e-01],\n",
       "       [ 1.06691859e+00, -5.20191065e-01,  1.90654249e-01,\n",
       "        -6.75621127e-01,  8.24910990e-01,  1.97161568e+00,\n",
       "         2.28548981e+00,  1.28272415e+00,  2.32152949e+00,\n",
       "         1.98565289e+00, -9.94550368e-01],\n",
       "       [ 1.92451494e+00,  2.20887926e-01, -2.38642791e+00,\n",
       "         1.92046635e+00, -3.74720405e-01, -2.87139833e-01,\n",
       "        -7.67873131e-01, -9.13300625e-01, -4.28599556e-01,\n",
       "        -9.01507081e-01,  1.00547949e+00],\n",
       "       [-2.36346680e+00,  1.43356264e+00, -2.05819928e-01,\n",
       "         1.89741366e-01, -2.36614673e+00, -1.22901472e+00,\n",
       "        -9.63016067e-01, -1.12581915e+00, -1.19438558e+00,\n",
       "        -9.95072450e-01, -9.94550368e-01],\n",
       "       [ 4.95187691e-01, -1.05915760e+00,  9.83602605e-01,\n",
       "        -6.75621127e-01,  9.01320633e-01,  3.23334630e-01,\n",
       "        -7.57964401e-02,  1.49524267e+00,  1.30424239e-01,\n",
       "         1.00989975e+00,  1.00547949e+00],\n",
       "       [-9.34139556e-01,  1.77041673e+00,  9.83602605e-01,\n",
       "        -6.75621127e-01,  9.90193816e-02, -2.78418769e-01,\n",
       "        -4.86504247e-01, -5.11876742e-01, -3.97968115e-01,\n",
       "        -5.67345048e-01,  1.00547949e+00],\n",
       "       [-9.34139556e-01,  8.94596100e-01,  1.38007678e+00,\n",
       "        -4.59280504e-01, -2.21901119e-01, -9.93545997e-01,\n",
       "        -3.98009194e-01, -6.77168929e-01, -8.72755447e-01,\n",
       "        -8.74774118e-01, -9.94550368e-01],\n",
       "       [-1.79173590e+00,  1.36619182e+00,  2.17302514e+00,\n",
       "         2.02863666e+00, -2.30024341e+00, -1.04587238e+00,\n",
       "        -9.53939651e-01, -1.07859281e+00, -1.07185981e+00,\n",
       "        -9.81705969e-01, -9.94550368e-01],\n",
       "       [ 2.09322242e-01,  1.16407937e+00,  5.87128427e-01,\n",
       "        -6.75621127e-01,  1.06660346e-01, -9.06335360e-01,\n",
       "        -7.08876429e-01, -5.35489911e-01, -8.65097587e-01,\n",
       "        -7.67842268e-01, -9.94550368e-01],\n",
       "       [-7.65432078e-02,  6.92483648e-01, -1.39524246e+00,\n",
       "         8.38763236e-01, -1.65076144e+00, -1.08947770e+00,\n",
       "        -9.42594132e-01, -1.03136647e+00, -1.08717553e+00,\n",
       "        -9.68339487e-01,  1.00547949e+00],\n",
       "       [ 4.95187691e-01, -6.54932700e-01,  1.90654249e-01,\n",
       "         2.02863666e+00, -9.20047259e-02, -6.09819192e-01,\n",
       "        -9.13095781e-01, -7.00782098e-01, -7.11940383e-01,\n",
       "        -8.21308193e-01,  1.00547949e+00],\n",
       "       [-9.34139556e-01,  9.61966917e-01,  1.90654249e-01,\n",
       "        -6.75621127e-01,  1.60147096e-01, -1.01098812e+00,\n",
       "        -5.84075715e-01, -5.11876742e-01, -9.11044748e-01,\n",
       "        -7.67842268e-01, -9.94550368e-01]])"
      ]
     },
     "execution_count": 67,
     "metadata": {},
     "output_type": "execute_result"
    }
   ],
   "source": [
    "X_test"
   ]
  },
  {
   "cell_type": "markdown",
   "id": "876ddb0d",
   "metadata": {},
   "source": [
    "# Logistic Regression"
   ]
  },
  {
   "cell_type": "code",
   "execution_count": 79,
   "id": "40b72885",
   "metadata": {},
   "outputs": [],
   "source": [
    "from sklearn.datasets import make_classification\n",
    "from matplotlib import pyplot as plt"
   ]
  },
  {
   "cell_type": "code",
   "execution_count": 148,
   "id": "ca83ae57",
   "metadata": {},
   "outputs": [
    {
     "data": {
      "text/plain": [
       "LogisticRegression(random_state=0)"
      ]
     },
     "execution_count": 148,
     "metadata": {},
     "output_type": "execute_result"
    }
   ],
   "source": [
    "from sklearn.linear_model import LogisticRegression\n",
    "model = LogisticRegression(random_state = 0)\n",
    "model.fit(X_train, Y_train)"
   ]
  },
  {
   "cell_type": "markdown",
   "id": "6d7dcee1",
   "metadata": {},
   "source": [
    "logistic regression coefficient and intercept"
   ]
  },
  {
   "cell_type": "code",
   "execution_count": 149,
   "id": "dc5c79c3",
   "metadata": {},
   "outputs": [
    {
     "name": "stdout",
     "output_type": "stream",
     "text": [
      "[[ 0.1374932   0.28417922 -0.08150923 -0.1450757   2.31696886  0.11941263\n",
      "   0.1780822   2.17602785  0.12795685  1.77368488  0.48960087]]\n",
      "[1.6227912]\n"
     ]
    }
   ],
   "source": [
    "# Show to Coeficient and Intercept\n",
    "print(model.coef_)\n",
    "print(model.intercept_)"
   ]
  },
  {
   "cell_type": "code",
   "execution_count": 231,
   "id": "c78c0ddb",
   "metadata": {},
   "outputs": [
    {
     "data": {
      "text/plain": [
       "0.9016393442622951"
      ]
     },
     "execution_count": 231,
     "metadata": {},
     "output_type": "execute_result"
    }
   ],
   "source": [
    "model.score(X_test,Y_test)"
   ]
  },
  {
   "cell_type": "markdown",
   "id": "a4a4442c",
   "metadata": {},
   "source": [
    "**Predicting the Test set results**"
   ]
  },
  {
   "cell_type": "code",
   "execution_count": 232,
   "id": "daf0f2ac",
   "metadata": {},
   "outputs": [],
   "source": [
    "y_pred = model.predict(X_test)"
   ]
  },
  {
   "cell_type": "code",
   "execution_count": 234,
   "id": "0363e668",
   "metadata": {},
   "outputs": [
    {
     "data": {
      "text/plain": [
       "0.9016393442622951"
      ]
     },
     "execution_count": 234,
     "metadata": {},
     "output_type": "execute_result"
    }
   ],
   "source": [
    "from sklearn.metrics import accuracy_score,classification_report\n",
    "accuracy_score(Y_test,y_pred)"
   ]
  },
  {
   "cell_type": "markdown",
   "id": "c54f3980",
   "metadata": {},
   "source": [
    "**Model Accuracy achieved= 90.16%**"
   ]
  },
  {
   "cell_type": "markdown",
   "id": "1bac3cd1",
   "metadata": {},
   "source": [
    "**classification_report**"
   ]
  },
  {
   "cell_type": "code",
   "execution_count": 100,
   "id": "40aed661",
   "metadata": {},
   "outputs": [
    {
     "name": "stdout",
     "output_type": "stream",
     "text": [
      "              precision    recall  f1-score   support\n",
      "\n",
      "           0       0.93      0.87      0.90        30\n",
      "           1       0.88      0.94      0.91        31\n",
      "\n",
      "    accuracy                           0.90        61\n",
      "   macro avg       0.90      0.90      0.90        61\n",
      "weighted avg       0.90      0.90      0.90        61\n",
      "\n"
     ]
    }
   ],
   "source": [
    "print(classification_report(y_pred,Y_test))"
   ]
  },
  {
   "cell_type": "markdown",
   "id": "9db6135c",
   "metadata": {},
   "source": [
    "**Confusion Matrix**"
   ]
  },
  {
   "cell_type": "code",
   "execution_count": 70,
   "id": "efb3cf8e",
   "metadata": {},
   "outputs": [],
   "source": [
    "from sklearn.metrics import confusion_matrix\n",
    "con_mat = confusion_matrix(Y_test, y_pred)"
   ]
  },
  {
   "cell_type": "code",
   "execution_count": 71,
   "id": "b3e6aa64",
   "metadata": {},
   "outputs": [
    {
     "data": {
      "text/plain": [
       "array([[26,  2],\n",
       "       [ 4, 29]], dtype=int64)"
      ]
     },
     "execution_count": 71,
     "metadata": {},
     "output_type": "execute_result"
    }
   ],
   "source": [
    "con_mat"
   ]
  },
  {
   "cell_type": "markdown",
   "id": "0bdabd0e",
   "metadata": {},
   "source": [
    "Observation:\n",
    "\n",
    "TP(True Positive): 26- Number of positives we predicted correctly\n",
    "\n",
    "TN(True Negative): 29-Number of negatives we predicted correctly\n",
    "\n",
    "FP(False Positive): 2 -Number of positives we predicted wrongly\n",
    "\n",
    "FN(False Negative):  4- Number of negatives we predicted wrongly"
   ]
  },
  {
   "cell_type": "code",
   "execution_count": 102,
   "id": "2a8231c3",
   "metadata": {},
   "outputs": [],
   "source": [
    "TP = con_mat[0][0]\n",
    "FP = con_mat[0][1]\n",
    "FN = con_mat[1][0]\n",
    "TN = con_mat[1][1]"
   ]
  },
  {
   "cell_type": "markdown",
   "id": "92dbbad0",
   "metadata": {},
   "source": [
    "**Precision**"
   ]
  },
  {
   "cell_type": "code",
   "execution_count": 103,
   "id": "9eebdd6e",
   "metadata": {},
   "outputs": [
    {
     "data": {
      "text/plain": [
       "0.9285714285714286"
      ]
     },
     "execution_count": 103,
     "metadata": {},
     "output_type": "execute_result"
    }
   ],
   "source": [
    "Precision = TP/(TP+FP)\n",
    "Precision"
   ]
  },
  {
   "cell_type": "markdown",
   "id": "1c1f1c67",
   "metadata": {},
   "source": [
    "**Recall**"
   ]
  },
  {
   "cell_type": "code",
   "execution_count": 104,
   "id": "ba34a847",
   "metadata": {},
   "outputs": [
    {
     "data": {
      "text/plain": [
       "0.8666666666666667"
      ]
     },
     "execution_count": 104,
     "metadata": {},
     "output_type": "execute_result"
    }
   ],
   "source": [
    "Recall = TP/(TP+FN)\n",
    "Recall"
   ]
  },
  {
   "cell_type": "markdown",
   "id": "d101e0c7",
   "metadata": {},
   "source": [
    "**F1 Score**"
   ]
  },
  {
   "cell_type": "code",
   "execution_count": 105,
   "id": "97f3154d",
   "metadata": {},
   "outputs": [
    {
     "data": {
      "text/plain": [
       "0.896551724137931"
      ]
     },
     "execution_count": 105,
     "metadata": {},
     "output_type": "execute_result"
    }
   ],
   "source": [
    "F1_Score = 2*(Recall * Precision) / (Recall + Precision)\n",
    "F1_Score"
   ]
  },
  {
   "cell_type": "code",
   "execution_count": 141,
   "id": "46bd1c7d",
   "metadata": {},
   "outputs": [
    {
     "data": {
      "image/png": "[encoded data removed]",
      "text/plain": [
       "<Figure size 576x576 with 1 Axes>"
      ]
     },
     "metadata": {},
     "output_type": "display_data"
    }
   ],
   "source": [
    "con_mat = confusion_matrix(Y_test, y_pred)\n",
    "\n",
    "fig, ax = plt.subplots(figsize=(8, 8))\n",
    "ax.imshow(con_mat)\n",
    "ax.grid(False)\n",
    "ax.xaxis.set(ticks=(0, 1), ticklabels=('Predicted 0s', 'Predicted 1s'))\n",
    "ax.yaxis.set(ticks=(0, 1), ticklabels=('Actual 0s', 'Actual 1s'))\n",
    "ax.set_ylim(1.5, -0.5)\n",
    "for i in range(2):\n",
    "    for j in range(2):\n",
    "        ax.text(j, i, con_mat[i, j], ha='center', va='center', color='red')\n",
    "plt.show()"
   ]
  },
  {
   "cell_type": "markdown",
   "id": "e870ab4e",
   "metadata": {},
   "source": [
    "**AUC**"
   ]
  },
  {
   "cell_type": "code",
   "execution_count": 110,
   "id": "dad6272c",
   "metadata": {},
   "outputs": [
    {
     "data": {
      "text/plain": [
       "0.9036796536796537"
      ]
     },
     "execution_count": 110,
     "metadata": {},
     "output_type": "execute_result"
    }
   ],
   "source": [
    "auc = roc_auc_score(Y_test, y_pred)\n",
    "auc"
   ]
  },
  {
   "cell_type": "markdown",
   "id": "a91e6e26",
   "metadata": {},
   "source": [
    "**ROC Curve**"
   ]
  },
  {
   "cell_type": "code",
   "execution_count": 106,
   "id": "ad153c2f",
   "metadata": {},
   "outputs": [
    {
     "data": {
      "text/plain": [
       "array([2, 1, 0], dtype=int64)"
      ]
     },
     "execution_count": 106,
     "metadata": {},
     "output_type": "execute_result"
    }
   ],
   "source": [
    "fpr, tpr, thresholds = roc_curve(Y_test, y_pred)\n",
    "thresholds"
   ]
  },
  {
   "cell_type": "code",
   "execution_count": 109,
   "id": "dd70672b",
   "metadata": {},
   "outputs": [
    {
     "data": {
      "image/png": "[encoded data removed]",
      "text/plain": [
       "<Figure size 432x288 with 1 Axes>"
      ]
     },
     "metadata": {},
     "output_type": "display_data"
    }
   ],
   "source": [
    "plt.plot(fpr, tpr, color='orange', label='ROC')\n",
    "plt.plot([0, 1], [0, 1], color='darkblue', linestyle='--')\n",
    "plt.xlabel('False Positive Rate')\n",
    "plt.ylabel('True Positive Rate')\n",
    "plt.title('Receiver Operating Characteristic (ROC) Curve')\n",
    "plt.legend()\n",
    "plt.show()"
   ]
  },
  {
   "cell_type": "markdown",
   "id": "43c11a5d",
   "metadata": {},
   "source": [
    "# Model Improvement"
   ]
  },
  {
   "cell_type": "code",
   "execution_count": 167,
   "id": "6ee35b3c",
   "metadata": {},
   "outputs": [],
   "source": [
    "from sklearn.model_selection import GridSearchCV\n",
    "parameter={'penalty':['l1','l2','elasticnet'],'C':[1,2,3,4,5,6,10,20,30,40,50],'max_iter':[100,200,300]}"
   ]
  },
  {
   "cell_type": "code",
   "execution_count": 247,
   "id": "e7768871",
   "metadata": {},
   "outputs": [],
   "source": [
    "model1=GridSearchCV(model,param_grid=parameter,scoring='accuracy',cv=20)"
   ]
  },
  {
   "cell_type": "code",
   "execution_count": 248,
   "id": "8d15296e",
   "metadata": {},
   "outputs": [
    {
     "data": {
      "text/plain": [
       "GridSearchCV(cv=20,\n",
       "             estimator=LogisticRegression(random_state=0, solver='liblinear'),\n",
       "             param_grid={'C': [1, 2, 3, 4, 5, 6, 10, 20, 30, 40, 50],\n",
       "                         'max_iter': [100, 200, 300],\n",
       "                         'penalty': ['l1', 'l2', 'elasticnet']},\n",
       "             scoring='accuracy')"
      ]
     },
     "execution_count": 248,
     "metadata": {},
     "output_type": "execute_result"
    }
   ],
   "source": [
    "model1.fit(X_train,Y_train)"
   ]
  },
  {
   "cell_type": "code",
   "execution_count": 249,
   "id": "42c55613",
   "metadata": {},
   "outputs": [
    {
     "name": "stdout",
     "output_type": "stream",
     "text": [
      "{'C': 6, 'max_iter': 100, 'penalty': 'l1'}\n"
     ]
    }
   ],
   "source": [
    "print(model1.best_params_)"
   ]
  },
  {
   "cell_type": "code",
   "execution_count": 250,
   "id": "6371aad1",
   "metadata": {},
   "outputs": [
    {
     "name": "stdout",
     "output_type": "stream",
     "text": [
      "0.9833333333333332\n"
     ]
    }
   ],
   "source": [
    "print(model1.best_score_)"
   ]
  },
  {
   "cell_type": "code",
   "execution_count": 251,
   "id": "fdfe3968",
   "metadata": {},
   "outputs": [],
   "source": [
    "y_pred1 = model1.predict(X_test)"
   ]
  },
  {
   "cell_type": "markdown",
   "id": "22193f3d",
   "metadata": {},
   "source": [
    "**Accuracy**"
   ]
  },
  {
   "cell_type": "code",
   "execution_count": 252,
   "id": "d382da05",
   "metadata": {},
   "outputs": [
    {
     "name": "stdout",
     "output_type": "stream",
     "text": [
      "0.9672131147540983\n"
     ]
    }
   ],
   "source": [
    "score1=accuracy_score(y_pred1,Y_test)\n",
    "print(score1)"
   ]
  },
  {
   "cell_type": "markdown",
   "id": "e2967ef0",
   "metadata": {},
   "source": [
    "**Model Accuracy achieved after improving= 96.72%**"
   ]
  },
  {
   "cell_type": "markdown",
   "id": "acc99525",
   "metadata": {},
   "source": [
    "**Classification Report**"
   ]
  },
  {
   "cell_type": "code",
   "execution_count": 220,
   "id": "a7a9d2c1",
   "metadata": {},
   "outputs": [
    {
     "name": "stdout",
     "output_type": "stream",
     "text": [
      "              precision    recall  f1-score   support\n",
      "\n",
      "           0       1.00      0.93      0.97        30\n",
      "           1       0.94      1.00      0.97        31\n",
      "\n",
      "    accuracy                           0.97        61\n",
      "   macro avg       0.97      0.97      0.97        61\n",
      "weighted avg       0.97      0.97      0.97        61\n",
      "\n"
     ]
    }
   ],
   "source": [
    "print(classification_report(y_pred1,Y_test))"
   ]
  },
  {
   "cell_type": "markdown",
   "id": "04437e0f",
   "metadata": {},
   "source": [
    "**Confusion Metrix**"
   ]
  },
  {
   "cell_type": "code",
   "execution_count": 221,
   "id": "371d3dfd",
   "metadata": {},
   "outputs": [],
   "source": [
    "con_mat1=confusion_matrix(y_pred1,Y_test)"
   ]
  },
  {
   "cell_type": "code",
   "execution_count": 222,
   "id": "8b5bc6ab",
   "metadata": {},
   "outputs": [
    {
     "data": {
      "text/plain": [
       "array([[28,  2],\n",
       "       [ 0, 31]], dtype=int64)"
      ]
     },
     "execution_count": 222,
     "metadata": {},
     "output_type": "execute_result"
    }
   ],
   "source": [
    "con_mat1"
   ]
  },
  {
   "cell_type": "code",
   "execution_count": 223,
   "id": "d688dd0d",
   "metadata": {},
   "outputs": [],
   "source": [
    "TP1 = con_mat1[0][0]\n",
    "FP1 = con_mat1[0][1]\n",
    "FN1 = con_mat1[1][0]\n",
    "TN1 = con_mat1[1][1]"
   ]
  },
  {
   "cell_type": "markdown",
   "id": "2a768141",
   "metadata": {},
   "source": [
    "**Precision**"
   ]
  },
  {
   "cell_type": "code",
   "execution_count": 224,
   "id": "d720b3e0",
   "metadata": {},
   "outputs": [
    {
     "data": {
      "text/plain": [
       "0.9333333333333333"
      ]
     },
     "execution_count": 224,
     "metadata": {},
     "output_type": "execute_result"
    }
   ],
   "source": [
    "Precision = TP1/(TP1+FP1)\n",
    "Precision"
   ]
  },
  {
   "cell_type": "markdown",
   "id": "2ae0f6b5",
   "metadata": {},
   "source": [
    "**Recall**"
   ]
  },
  {
   "cell_type": "code",
   "execution_count": 225,
   "id": "f6d28ce3",
   "metadata": {},
   "outputs": [
    {
     "data": {
      "text/plain": [
       "1.0"
      ]
     },
     "execution_count": 225,
     "metadata": {},
     "output_type": "execute_result"
    }
   ],
   "source": [
    "Recall = TP1/(TP1+FN1)\n",
    "Recall"
   ]
  },
  {
   "cell_type": "markdown",
   "id": "fa829964",
   "metadata": {},
   "source": [
    "**F1 Score**"
   ]
  },
  {
   "cell_type": "code",
   "execution_count": 226,
   "id": "7d642b9f",
   "metadata": {},
   "outputs": [
    {
     "data": {
      "text/plain": [
       "0.9655172413793104"
      ]
     },
     "execution_count": 226,
     "metadata": {},
     "output_type": "execute_result"
    }
   ],
   "source": [
    "F1_Score = 2*(Recall * Precision) / (Recall + Precision)\n",
    "F1_Score"
   ]
  },
  {
   "cell_type": "code",
   "execution_count": 227,
   "id": "c779cb5d",
   "metadata": {},
   "outputs": [
    {
     "data": {
      "image/png": "[encoded data removed]",
      "text/plain": [
       "<Figure size 576x576 with 1 Axes>"
      ]
     },
     "metadata": {},
     "output_type": "display_data"
    }
   ],
   "source": [
    "fig, ax = plt.subplots(figsize=(8, 8))\n",
    "ax.imshow(con_mat1)\n",
    "ax.grid(False)\n",
    "ax.xaxis.set(ticks=(0, 1), ticklabels=('Predicted 0s', 'Predicted 1s'))\n",
    "ax.yaxis.set(ticks=(0, 1), ticklabels=('Actual 0s', 'Actual 1s'))\n",
    "ax.set_ylim(1.5, -0.5)\n",
    "for i in range(2):\n",
    "    for j in range(2):\n",
    "        ax.text(j, i, con_mat1[i, j], ha='center', va='center', color='red')\n",
    "plt.show()"
   ]
  },
  {
   "cell_type": "markdown",
   "id": "00ce1f0d",
   "metadata": {},
   "source": [
    "**AUC**"
   ]
  },
  {
   "cell_type": "code",
   "execution_count": 228,
   "id": "f537d87a",
   "metadata": {},
   "outputs": [
    {
     "data": {
      "text/plain": [
       "0.9696969696969697"
      ]
     },
     "execution_count": 228,
     "metadata": {},
     "output_type": "execute_result"
    }
   ],
   "source": [
    "auc = roc_auc_score(Y_test, y_pred1)\n",
    "auc"
   ]
  },
  {
   "cell_type": "markdown",
   "id": "3e14a41d",
   "metadata": {},
   "source": [
    "**ROC Curve**"
   ]
  },
  {
   "cell_type": "code",
   "execution_count": 229,
   "id": "1090c14d",
   "metadata": {},
   "outputs": [
    {
     "data": {
      "text/plain": [
       "array([2, 1, 0], dtype=int64)"
      ]
     },
     "execution_count": 229,
     "metadata": {},
     "output_type": "execute_result"
    }
   ],
   "source": [
    "fpr1, tpr1, thresholds1 = roc_curve(Y_test, y_pred1)\n",
    "thresholds1"
   ]
  },
  {
   "cell_type": "code",
   "execution_count": 230,
   "id": "167ac1a4",
   "metadata": {},
   "outputs": [
    {
     "data": {
      "image/png": "[encoded data removed]",
      "text/plain": [
       "<Figure size 432x288 with 1 Axes>"
      ]
     },
     "metadata": {},
     "output_type": "display_data"
    }
   ],
   "source": [
    "plt.plot(fpr1, tpr1, color='orange', label='ROC')\n",
    "plt.plot([0, 1], [0, 1], color='darkblue', linestyle='--')\n",
    "plt.xlabel('False Positive Rate')\n",
    "plt.ylabel('True Positive Rate')\n",
    "plt.title('Receiver Operating Characteristic (ROC) Curve')\n",
    "plt.legend()\n",
    "plt.show()"
   ]
  }
 ],
 "metadata": {
  "kernelspec": {
   "display_name": "Python 3 (ipykernel)",
   "language": "python",
   "name": "python3"
  },
  "language_info": {
   "codemirror_mode": {
    "name": "ipython",
    "version": 3
   },
   "file_extension": ".py",
   "mimetype": "text/x-python",
   "name": "python",
   "nbconvert_exporter": "python",
   "pygments_lexer": "ipython3",
   "version": "3.9.12"
  }
 },
 "nbformat": 4,
 "nbformat_minor": 5
}
